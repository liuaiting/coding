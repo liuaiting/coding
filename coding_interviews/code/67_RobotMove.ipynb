{
 "cells": [
  {
   "cell_type": "markdown",
   "metadata": {},
   "source": [
    "# 机器人的运动范围"
   ]
  },
  {
   "cell_type": "markdown",
   "metadata": {},
   "source": [
    "题目描述\n",
    "\n",
    "地上有一个m行和n列的方格。一个机器人从坐标0,0的格子开始移动，每一次只能向左，右，上，下四个方向移动一格，但是不能进入行坐标和列坐标的数位之和大于k的格子。 例如，当k为18时，机器人能够进入方格（35,37），因为3+5+3+7 = 18。但是，它不能进入方格（35,38），因为3+5+3+8 = 19。请问该机器人能够达到多少个格子？"
   ]
  },
  {
   "cell_type": "code",
   "execution_count": 25,
   "metadata": {},
   "outputs": [],
   "source": [
    "# -*- coding:utf-8 -*-\n",
    "class Solution:\n",
    "    def movingCount(self, threshold, rows, cols):\n",
    "        # write code here\n",
    "        visited = [False] * (rows * cols)\n",
    "        count = self.movingCountCore(threshold, rows, cols, 0, 0, visited)\n",
    "        return count\n",
    "        \n",
    "    def movingCountCore(self, threshold, rows, cols, row, col, visited):\n",
    "        count = 0\n",
    "        if self.check(threshold, rows, cols, row, col, visited):\n",
    "            visited[row * cols + col] = True\n",
    "            count = 1 + self.movingCountCore(threshold, rows, cols, row - 1, col, visited)\\\n",
    "                    + self.movingCountCore(threshold, rows, cols, row, col - 1, visited)\\\n",
    "                    + self.movingCountCore(threshold, rows, cols, row + 1, col, visited)\\\n",
    "                    + self.movingCountCore(threshold, rows, cols, row, col + 1, visited)\n",
    "        return count\n",
    "    \n",
    "    def check(self, threshold, rows, cols, row, col, visited):\n",
    "        if row >= 0 and row < rows and col >= 0 and col < cols and\\\n",
    "            self.get_digit_sum(row) + self.get_digit_sum(col) <= threshold and not visited[row * cols + col]:\n",
    "            return True\n",
    "        else:\n",
    "            return False\n",
    "    \n",
    "    def get_digit_sum(self, number):\n",
    "        s = 0\n",
    "        while number > 0:\n",
    "            s += number % 10\n",
    "            number /= 10\n",
    "        return s"
   ]
  },
  {
   "cell_type": "code",
   "execution_count": 26,
   "metadata": {},
   "outputs": [],
   "source": [
    "test = Solution()"
   ]
  },
  {
   "cell_type": "code",
   "execution_count": 28,
   "metadata": {},
   "outputs": [
    {
     "data": {
      "text/plain": [
       "21"
      ]
     },
     "execution_count": 28,
     "metadata": {},
     "output_type": "execute_result"
    }
   ],
   "source": [
    "test.movingCount(5, 10, 10)"
   ]
  },
  {
   "cell_type": "code",
   "execution_count": null,
   "metadata": {},
   "outputs": [],
   "source": []
  },
  {
   "cell_type": "code",
   "execution_count": null,
   "metadata": {},
   "outputs": [],
   "source": []
  },
  {
   "cell_type": "code",
   "execution_count": null,
   "metadata": {},
   "outputs": [],
   "source": []
  }
 ],
 "metadata": {
  "kernelspec": {
   "display_name": "Python 2",
   "language": "python",
   "name": "python2"
  },
  "language_info": {
   "codemirror_mode": {
    "name": "ipython",
    "version": 2
   },
   "file_extension": ".py",
   "mimetype": "text/x-python",
   "name": "python",
   "nbconvert_exporter": "python",
   "pygments_lexer": "ipython2",
   "version": "2.7.15"
  }
 },
 "nbformat": 4,
 "nbformat_minor": 2
}
