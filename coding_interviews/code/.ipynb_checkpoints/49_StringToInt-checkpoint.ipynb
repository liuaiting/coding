{
 "cells": [
  {
   "cell_type": "markdown",
   "metadata": {},
   "source": [
    "# 把字符串转换成整数"
   ]
  },
  {
   "cell_type": "markdown",
   "metadata": {},
   "source": [
    "题目描述\n",
    "\n",
    "将一个字符串转换成一个整数(实现Integer.valueOf(string)的功能，但是string不符合数字要求时返回0)，要求不能使用字符串转换整数的库函数。 数值为0或者字符串不是一个合法的数值则返回0。\n",
    "\n",
    "输入描述:\n",
    "\n",
    "输入一个字符串,包括数字字母符号,可以为空\n",
    "\n",
    "输出描述:\n",
    "\n",
    "如果是合法的数值表达则返回该数字，否则返回0\n",
    "\n",
    "示例1\n",
    "\n",
    "输入\n",
    "+2147483647\n",
    "    1a33\n",
    "输出\n",
    "2147483647\n",
    "    0"
   ]
  },
  {
   "cell_type": "code",
   "execution_count": 39,
   "metadata": {},
   "outputs": [],
   "source": [
    "# -*- coding:utf-8 -*-\n",
    "class Solution:\n",
    "    def is_valid(self):\n",
    "        self.valid = True\n",
    "        \n",
    "    def StrToInt(self, s):\n",
    "        # write code here\n",
    "        if not s:\n",
    "            self.valid = False         \n",
    "            return 0\n",
    "        \n",
    "        minus = False\n",
    "        i = 0\n",
    "        num = 0\n",
    "        if s[i] == \"+\":\n",
    "            i += 1\n",
    "        elif s[i] == \"-\":\n",
    "            i += 1\n",
    "            minus = True\n",
    "        for i in range(i, len(s)):\n",
    "            if s[i] >= \"0\" and s[i] <= \"9\":\n",
    "                num = num * 10 + int(s[i])\n",
    "            else:\n",
    "                num = 0\n",
    "                self.valid = False\n",
    "                break\n",
    "        if minus:\n",
    "            return -num\n",
    "        else:\n",
    "            return num"
   ]
  },
  {
   "cell_type": "code",
   "execution_count": 40,
   "metadata": {},
   "outputs": [],
   "source": [
    "test = Solution()"
   ]
  },
  {
   "cell_type": "code",
   "execution_count": 41,
   "metadata": {},
   "outputs": [
    {
     "data": {
      "text/plain": [
       "12345"
      ]
     },
     "execution_count": 41,
     "metadata": {},
     "output_type": "execute_result"
    }
   ],
   "source": [
    "test.StrToInt(\"+12345\")"
   ]
  },
  {
   "cell_type": "code",
   "execution_count": 42,
   "metadata": {},
   "outputs": [
    {
     "data": {
      "text/plain": [
       "-12345"
      ]
     },
     "execution_count": 42,
     "metadata": {},
     "output_type": "execute_result"
    }
   ],
   "source": [
    "test.StrToInt(\"-12345\")"
   ]
  },
  {
   "cell_type": "code",
   "execution_count": 43,
   "metadata": {},
   "outputs": [
    {
     "data": {
      "text/plain": [
       "0"
      ]
     },
     "execution_count": 43,
     "metadata": {},
     "output_type": "execute_result"
    }
   ],
   "source": [
    "test.StrToInt(\"1a33\")"
   ]
  },
  {
   "cell_type": "code",
   "execution_count": null,
   "metadata": {},
   "outputs": [],
   "source": []
  },
  {
   "cell_type": "code",
   "execution_count": null,
   "metadata": {},
   "outputs": [],
   "source": []
  }
 ],
 "metadata": {
  "kernelspec": {
   "display_name": "Python 2",
   "language": "python",
   "name": "python2"
  },
  "language_info": {
   "codemirror_mode": {
    "name": "ipython",
    "version": 2
   },
   "file_extension": ".py",
   "mimetype": "text/x-python",
   "name": "python",
   "nbconvert_exporter": "python",
   "pygments_lexer": "ipython2",
   "version": "2.7.15"
  }
 },
 "nbformat": 4,
 "nbformat_minor": 2
}
