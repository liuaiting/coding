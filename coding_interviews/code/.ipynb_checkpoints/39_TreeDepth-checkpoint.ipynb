{
 "cells": [
  {
   "cell_type": "markdown",
   "metadata": {},
   "source": [
    "# 二叉树的深度"
   ]
  },
  {
   "cell_type": "markdown",
   "metadata": {},
   "source": [
    "题目描述\n",
    "\n",
    "输入一棵二叉树，求该树的深度。从根结点到叶结点依次经过的结点（含根、叶结点）形成树的一条路径，最长路径的长度为树的深度。"
   ]
  },
  {
   "cell_type": "code",
   "execution_count": 3,
   "metadata": {},
   "outputs": [],
   "source": [
    "# -*- coding:utf-8 -*-\n",
    "class TreeNode:\n",
    "    def __init__(self, x):\n",
    "        self.val = x\n",
    "        self.left = None\n",
    "        self.right = None\n",
    "class Solution:\n",
    "    def TreeDepth(self, pRoot):\n",
    "        # write code here\n",
    "        if not pRoot:\n",
    "            return 0\n",
    "        left = self.TreeDepth(pRoot.left)\n",
    "        right = self.TreeDepth(pRoot.right)\n",
    "        if left > right:\n",
    "            return left + 1\n",
    "        else:\n",
    "            return right + 1"
   ]
  },
  {
   "cell_type": "code",
   "execution_count": 2,
   "metadata": {},
   "outputs": [],
   "source": [
    "test = Solution()"
   ]
  },
  {
   "cell_type": "code",
   "execution_count": 5,
   "metadata": {},
   "outputs": [],
   "source": [
    "tree = TreeNode(1)\n",
    "tree.left = TreeNode(2)\n",
    "tree.right = TreeNode(3)\n",
    "tree.left.left = TreeNode(4)\n",
    "tree.left.right = TreeNode(5)\n",
    "tree.left.right.left = TreeNode(7)\n",
    "tree.right = TreeNode(3)\n",
    "tree.right.right = TreeNode(6)"
   ]
  },
  {
   "cell_type": "code",
   "execution_count": 6,
   "metadata": {},
   "outputs": [
    {
     "data": {
      "text/plain": [
       "4"
      ]
     },
     "execution_count": 6,
     "metadata": {},
     "output_type": "execute_result"
    }
   ],
   "source": [
    "test.TreeDepth(tree)"
   ]
  },
  {
   "cell_type": "code",
   "execution_count": 7,
   "metadata": {},
   "outputs": [
    {
     "data": {
      "text/plain": [
       "0"
      ]
     },
     "execution_count": 7,
     "metadata": {},
     "output_type": "execute_result"
    }
   ],
   "source": [
    "test.TreeDepth(None)"
   ]
  },
  {
   "cell_type": "code",
   "execution_count": null,
   "metadata": {},
   "outputs": [],
   "source": []
  }
 ],
 "metadata": {
  "kernelspec": {
   "display_name": "Python 2",
   "language": "python",
   "name": "python2"
  },
  "language_info": {
   "codemirror_mode": {
    "name": "ipython",
    "version": 2
   },
   "file_extension": ".py",
   "mimetype": "text/x-python",
   "name": "python",
   "nbconvert_exporter": "python",
   "pygments_lexer": "ipython2",
   "version": "2.7.15"
  }
 },
 "nbformat": 4,
 "nbformat_minor": 2
}
