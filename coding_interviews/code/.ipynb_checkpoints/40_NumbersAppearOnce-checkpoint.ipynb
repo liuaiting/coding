{
 "cells": [
  {
   "cell_type": "markdown",
   "metadata": {},
   "source": [
    "# 数组中只出现一次"
   ]
  },
  {
   "cell_type": "markdown",
   "metadata": {},
   "source": [
    "题目描述\n",
    "\n",
    "一个整型数组里除了两个数字之外，其他的数字都出现了偶数次。请写程序找出这两个只出现一次的数字。"
   ]
  },
  {
   "cell_type": "code",
   "execution_count": 17,
   "metadata": {},
   "outputs": [],
   "source": [
    "# -*- coding:utf-8 -*-\n",
    "class Solution:\n",
    "    # 返回[a,b] 其中ab是出现一次的两个数字\n",
    "    def FindNumsAppearOnce(self, array):\n",
    "        # write code here\n",
    "        if not array:\n",
    "            return []\n",
    "        result_exclusive_or = 0\n",
    "        for i in array:\n",
    "            result_exclusive_or ^= i\n",
    "        \n",
    "        index_of_1 = self.find_first_bit_is_1(result_exclusive_or)\n",
    "        num1, num2 = 0, 0\n",
    "        for j in array:\n",
    "            if self.is_bit_1(j, index_of_1):\n",
    "                num1 ^= j\n",
    "            else:\n",
    "                num2 ^= j\n",
    "        return [num1, num2]\n",
    "    \n",
    "    def find_first_bit_is_1(self, num):\n",
    "        index = 0\n",
    "        while num & 1 == 0:\n",
    "            num = num >> 1\n",
    "            index += 1\n",
    "        return index\n",
    "    \n",
    "    def is_bit_1(self, num, index):\n",
    "        num = num >> index\n",
    "        return num & 1"
   ]
  },
  {
   "cell_type": "code",
   "execution_count": 18,
   "metadata": {},
   "outputs": [],
   "source": [
    "test = Solution()"
   ]
  },
  {
   "cell_type": "code",
   "execution_count": 19,
   "metadata": {},
   "outputs": [
    {
     "data": {
      "text/plain": [
       "[6, 4]"
      ]
     },
     "execution_count": 19,
     "metadata": {},
     "output_type": "execute_result"
    }
   ],
   "source": [
    "test.FindNumsAppearOnce([2,4,3,6,3,2,5,5])"
   ]
  },
  {
   "cell_type": "code",
   "execution_count": 20,
   "metadata": {},
   "outputs": [
    {
     "data": {
      "text/plain": [
       "[2, 4]"
      ]
     },
     "execution_count": 20,
     "metadata": {},
     "output_type": "execute_result"
    }
   ],
   "source": [
    "test.FindNumsAppearOnce([2,4])"
   ]
  },
  {
   "cell_type": "code",
   "execution_count": null,
   "metadata": {},
   "outputs": [],
   "source": []
  }
 ],
 "metadata": {
  "kernelspec": {
   "display_name": "Python 2",
   "language": "python",
   "name": "python2"
  },
  "language_info": {
   "codemirror_mode": {
    "name": "ipython",
    "version": 2
   },
   "file_extension": ".py",
   "mimetype": "text/x-python",
   "name": "python",
   "nbconvert_exporter": "python",
   "pygments_lexer": "ipython2",
   "version": "2.7.15"
  }
 },
 "nbformat": 4,
 "nbformat_minor": 2
}
