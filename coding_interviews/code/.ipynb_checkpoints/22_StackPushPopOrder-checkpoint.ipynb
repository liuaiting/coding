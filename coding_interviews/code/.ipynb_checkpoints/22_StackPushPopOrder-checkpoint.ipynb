{
 "cells": [
  {
   "cell_type": "markdown",
   "metadata": {},
   "source": [
    "# 栈的压入、弹出序列"
   ]
  },
  {
   "cell_type": "markdown",
   "metadata": {},
   "source": [
    "题目描述\n",
    "\n",
    "输入两个整数序列，第一个序列表示栈的压入顺序，请判断第二个序列是否可能为该栈的弹出顺序。假设压入栈的所有数字均不相等。例如序列1,2,3,4,5是某栈的压入顺序，序列4,5,3,2,1是该压栈序列对应的一个弹出序列，但4,3,5,1,2就不可能是该压栈序列的弹出序列。（注意：这两个序列的长度是相等的）"
   ]
  },
  {
   "cell_type": "code",
   "execution_count": 77,
   "metadata": {},
   "outputs": [],
   "source": [
    "# -*- coding:utf-8 -*-\n",
    "class Solution:\n",
    "    def IsPopOrder(self, pushV, popV):\n",
    "        # write code here\n",
    "        if not pushV or not popV:\n",
    "            return False\n",
    "        stack = []\n",
    "        while popV:\n",
    "            if stack and popV[0] == stack[-1]:\n",
    "                stack.pop()\n",
    "                popV.pop(0)\n",
    "            elif pushV:\n",
    "                stack.append(pushV.pop(0))\n",
    "            else:\n",
    "                return False\n",
    "\n",
    "        return True"
   ]
  },
  {
   "cell_type": "code",
   "execution_count": 78,
   "metadata": {},
   "outputs": [],
   "source": [
    "test = Solution()"
   ]
  },
  {
   "cell_type": "code",
   "execution_count": 79,
   "metadata": {},
   "outputs": [
    {
     "data": {
      "text/plain": [
       "True"
      ]
     },
     "execution_count": 79,
     "metadata": {},
     "output_type": "execute_result"
    }
   ],
   "source": [
    "test.IsPopOrder([1,2,3,4,5], [4,5,3,2,1])"
   ]
  },
  {
   "cell_type": "code",
   "execution_count": 80,
   "metadata": {},
   "outputs": [
    {
     "data": {
      "text/plain": [
       "True"
      ]
     },
     "execution_count": 80,
     "metadata": {},
     "output_type": "execute_result"
    }
   ],
   "source": [
    "test.IsPopOrder([1,2,3,4,5], [3,5,4,2,1])"
   ]
  },
  {
   "cell_type": "code",
   "execution_count": 81,
   "metadata": {},
   "outputs": [
    {
     "data": {
      "text/plain": [
       "False"
      ]
     },
     "execution_count": 81,
     "metadata": {},
     "output_type": "execute_result"
    }
   ],
   "source": [
    "test.IsPopOrder([1,2,3,4,5], [4,3,5,1,2])"
   ]
  },
  {
   "cell_type": "markdown",
   "metadata": {},
   "source": [
    "链接：https://www.nowcoder.com/questionTerminal/d77d11405cc7470d82554cb392585106?commentTags=Python\n",
    "来源：牛客网\n",
    "\n",
    "最好想的办法是用一个辅助栈去模拟整个过程，但是代码繁琐而且引入额外的复杂度。\n",
    "所以每次按照pushV的顺序入栈一个元素，并尝试按照popV的顺序尽可能出栈，如果辅助栈最后空了，说明按照pushV的入栈顺序的前提下，能够按照popV的出栈顺序出栈。\n",
    "尽量兼顾可读性和代码行数吧。"
   ]
  },
  {
   "cell_type": "code",
   "execution_count": 82,
   "metadata": {},
   "outputs": [],
   "source": [
    "# -*- coding:utf-8 -*-\n",
    "class Solution:\n",
    "    def IsPopOrder(self, pushV, popV):\n",
    "        # write code here\n",
    "        if not pushV or not popV:\n",
    "            return False\n",
    "        stack = []\n",
    "        while pushV:\n",
    "            stack.append(pushV.pop(0))\n",
    "            while stack and stack[-1] == popV[0]:\n",
    "                stack.pop()\n",
    "                popV.pop(0)\n",
    "        if stack:\n",
    "            return False\n",
    "        else:\n",
    "            return True"
   ]
  },
  {
   "cell_type": "code",
   "execution_count": 83,
   "metadata": {},
   "outputs": [
    {
     "data": {
      "text/plain": [
       "True"
      ]
     },
     "execution_count": 83,
     "metadata": {},
     "output_type": "execute_result"
    }
   ],
   "source": [
    "test = Solution()\n",
    "test.IsPopOrder([1,2,3,4,5], [4,5,3,2,1])"
   ]
  },
  {
   "cell_type": "code",
   "execution_count": 84,
   "metadata": {},
   "outputs": [
    {
     "data": {
      "text/plain": [
       "True"
      ]
     },
     "execution_count": 84,
     "metadata": {},
     "output_type": "execute_result"
    }
   ],
   "source": [
    "test.IsPopOrder([1,2,3,4,5], [3,5,4,2,1])"
   ]
  },
  {
   "cell_type": "code",
   "execution_count": 85,
   "metadata": {},
   "outputs": [
    {
     "data": {
      "text/plain": [
       "False"
      ]
     },
     "execution_count": 85,
     "metadata": {},
     "output_type": "execute_result"
    }
   ],
   "source": [
    "test.IsPopOrder([1,2,3,4,5], [4,3,5,1,2])"
   ]
  },
  {
   "cell_type": "code",
   "execution_count": null,
   "metadata": {},
   "outputs": [],
   "source": []
  }
 ],
 "metadata": {
  "kernelspec": {
   "display_name": "Python 3",
   "language": "python",
   "name": "python3"
  },
  "language_info": {
   "codemirror_mode": {
    "name": "ipython",
    "version": 3
   },
   "file_extension": ".py",
   "mimetype": "text/x-python",
   "name": "python",
   "nbconvert_exporter": "python",
   "pygments_lexer": "ipython3",
   "version": "3.6.5"
  }
 },
 "nbformat": 4,
 "nbformat_minor": 2
}
