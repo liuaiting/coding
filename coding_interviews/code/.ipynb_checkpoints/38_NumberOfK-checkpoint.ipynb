{
 "cells": [
  {
   "cell_type": "markdown",
   "metadata": {},
   "source": [
    "# 数字在排序数组中出现的次数"
   ]
  },
  {
   "cell_type": "markdown",
   "metadata": {},
   "source": [
    "题目描述\n",
    "\n",
    "统计一个数字在排序数组中出现的次数。"
   ]
  },
  {
   "cell_type": "markdown",
   "metadata": {},
   "source": [
    "## 排序数组用二分查找，先找出排序数组中的第一个K，在找出最后一个K，时间复杂度O(logn)"
   ]
  },
  {
   "cell_type": "code",
   "execution_count": 26,
   "metadata": {},
   "outputs": [],
   "source": [
    "# -*- coding:utf-8 -*-\n",
    "class Solution:\n",
    "    def GetNumberOfK(self, data, k):\n",
    "        # write code here\n",
    "        if not data:\n",
    "            return 0\n",
    "        number = 0\n",
    "        first = self.get_first_k(data, k, 0, len(data) - 1)\n",
    "        last = self.get_last_k(data, k, 0, len(data) - 1)\n",
    "        if first > -1 and last > -1:\n",
    "            number = last - first + 1\n",
    "        return number\n",
    "        \n",
    "    def get_first_k(self, data, k, start, end):\n",
    "        if start > end:\n",
    "            return -1\n",
    "        middle = (start + end) // 2\n",
    "        if data[middle] == k:\n",
    "            # 注意这里的判别条件，当middle是第0个时\n",
    "            if (middle > 0 and data[middle - 1] != k) or middle == 0:\n",
    "                return middle\n",
    "            else:\n",
    "                end = middle - 1\n",
    "        elif data[middle] < k:\n",
    "            start = middle + 1\n",
    "        else:\n",
    "            end = middle - 1\n",
    "        return self.get_first_k(data, k, start, end)\n",
    "    \n",
    "    def get_last_k(self, data, k, start, end):\n",
    "        if start > end:\n",
    "            return -1\n",
    "        middle = (start + end) // 2\n",
    "        if data[middle] == k:\n",
    "            # 注意这里的判别条件，当middle是最后一个时\n",
    "            if (middle < len(data) - 1 and data[middle + 1] != k) or middle == len(data)-1:\n",
    "                return middle\n",
    "            else:\n",
    "                start = middle + 1\n",
    "        elif data[middle] < k:\n",
    "            start = middle + 1\n",
    "        else:\n",
    "            end = middle - 1\n",
    "        return self.get_last_k(data, k, start, end)"
   ]
  },
  {
   "cell_type": "code",
   "execution_count": 27,
   "metadata": {},
   "outputs": [],
   "source": [
    "test = Solution()"
   ]
  },
  {
   "cell_type": "code",
   "execution_count": 28,
   "metadata": {},
   "outputs": [
    {
     "data": {
      "text/plain": [
       "4"
      ]
     },
     "execution_count": 28,
     "metadata": {},
     "output_type": "execute_result"
    }
   ],
   "source": [
    "test.GetNumberOfK([1,2,3,3,3,3,4,5], 3)"
   ]
  },
  {
   "cell_type": "code",
   "execution_count": 29,
   "metadata": {},
   "outputs": [
    {
     "data": {
      "text/plain": [
       "4"
      ]
     },
     "execution_count": 29,
     "metadata": {},
     "output_type": "execute_result"
    }
   ],
   "source": [
    "test.GetNumberOfK([1,2,3,3,3,3], 3)"
   ]
  },
  {
   "cell_type": "code",
   "execution_count": 30,
   "metadata": {},
   "outputs": [
    {
     "data": {
      "text/plain": [
       "0"
      ]
     },
     "execution_count": 30,
     "metadata": {},
     "output_type": "execute_result"
    }
   ],
   "source": [
    "test.GetNumberOfK([1,2,3,3,3,3], 4)"
   ]
  },
  {
   "cell_type": "code",
   "execution_count": null,
   "metadata": {},
   "outputs": [],
   "source": []
  }
 ],
 "metadata": {
  "kernelspec": {
   "display_name": "Python 2",
   "language": "python",
   "name": "python2"
  },
  "language_info": {
   "codemirror_mode": {
    "name": "ipython",
    "version": 2
   },
   "file_extension": ".py",
   "mimetype": "text/x-python",
   "name": "python",
   "nbconvert_exporter": "python",
   "pygments_lexer": "ipython2",
   "version": "2.7.15"
  }
 },
 "nbformat": 4,
 "nbformat_minor": 2
}
