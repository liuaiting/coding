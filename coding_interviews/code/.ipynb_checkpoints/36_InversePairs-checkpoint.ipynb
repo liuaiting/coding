{
 "cells": [
  {
   "cell_type": "markdown",
   "metadata": {},
   "source": [
    "# 数组中的逆序对"
   ]
  },
  {
   "cell_type": "markdown",
   "metadata": {},
   "source": [
    "题目描述\n",
    "\n",
    "在数组中的两个数字，如果前面一个数字大于后面的数字，则这两个数字组成一个逆序对。输入一个数组,求出这个数组中的逆序对的总数P。并将P对1000000007取模的结果输出。 即输出P%1000000007\n",
    "\n",
    "输入描述:\n",
    "\n",
    "题目保证输入的数组中没有的相同的数字\n",
    "\n",
    "数据范围：\n",
    "\n",
    "\t对于%50的数据,size<=10^4\n",
    "\n",
    "\t对于%75的数据,size<=10^5\n",
    "\n",
    "\t对于%100的数据,size<=2*10^5"
   ]
  },
  {
   "cell_type": "markdown",
   "metadata": {},
   "source": [
    "## 归并排序，时间复杂度O(nlogn)，空间复杂度O(n)"
   ]
  },
  {
   "cell_type": "code",
   "execution_count": 35,
   "metadata": {},
   "outputs": [],
   "source": [
    "# -*- coding:utf-8 -*-\n",
    "import copy\n",
    "class Solution:\n",
    "    def InversePairs(self, data):\n",
    "        # write code here\n",
    "        if not data:\n",
    "            return 0\n",
    "        merged = copy.deepcopy(data)\n",
    "        count = self.merge(data, merged, 0, len(data) - 1)\n",
    "        return count\n",
    "        \n",
    "    def merge(self, data, merged, start, end):\n",
    "        if start == end:\n",
    "            merged[start] = data[start]\n",
    "            return 0\n",
    "        length = (end - start) // 2\n",
    "        left = self.merge( data, merged, start, start + length)\n",
    "        right = self.merge(data, merged, start + length + 1, end)\n",
    "        \n",
    "        i = start + length\n",
    "        j = end\n",
    "        k = end\n",
    "        count = 0\n",
    "        while i >= start and j >= start + length + 1:\n",
    "            if data[i] > data[j]:\n",
    "                merged[k] = data[i]\n",
    "                i -= 1\n",
    "                count += j - start - length\n",
    "            else:\n",
    "                merged[k] = data[j]\n",
    "                j -= 1\n",
    "            k -= 1\n",
    "        while i >= start:\n",
    "            merged[k] = data[i]\n",
    "            k -= 1\n",
    "            i -= 1\n",
    "        while j >= start + length + 1:\n",
    "            merged[k] = data[j]\n",
    "            j -= 1\n",
    "            k -= 1\n",
    "        return left + right + count\n",
    "                "
   ]
  },
  {
   "cell_type": "code",
   "execution_count": 36,
   "metadata": {},
   "outputs": [],
   "source": [
    "test = Solution()"
   ]
  },
  {
   "cell_type": "code",
   "execution_count": 37,
   "metadata": {},
   "outputs": [
    {
     "data": {
      "text/plain": [
       "6"
      ]
     },
     "execution_count": 37,
     "metadata": {},
     "output_type": "execute_result"
    }
   ],
   "source": [
    "test.InversePairs([7,5,6,4])"
   ]
  },
  {
   "cell_type": "code",
   "execution_count": null,
   "metadata": {},
   "outputs": [],
   "source": []
  },
  {
   "cell_type": "code",
   "execution_count": null,
   "metadata": {},
   "outputs": [],
   "source": []
  }
 ],
 "metadata": {
  "kernelspec": {
   "display_name": "Python 2",
   "language": "python",
   "name": "python2"
  },
  "language_info": {
   "codemirror_mode": {
    "name": "ipython",
    "version": 2
   },
   "file_extension": ".py",
   "mimetype": "text/x-python",
   "name": "python",
   "nbconvert_exporter": "python",
   "pygments_lexer": "ipython2",
   "version": "2.7.15"
  }
 },
 "nbformat": 4,
 "nbformat_minor": 2
}
