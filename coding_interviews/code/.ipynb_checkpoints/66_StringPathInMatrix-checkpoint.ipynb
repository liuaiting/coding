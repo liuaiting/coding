{
 "cells": [
  {
   "cell_type": "markdown",
   "metadata": {},
   "source": [
    "# 矩阵中的路径"
   ]
  },
  {
   "cell_type": "markdown",
   "metadata": {},
   "source": [
    "题目描述\n",
    "\n",
    "请设计一个函数，用来判断在一个矩阵中是否存在一条包含某字符串所有字符的路径。路径可以从矩阵中的任意一个格子开始，每一步可以在矩阵中向左，向右，向上，向下移动一个格子。如果一条路径经过了矩阵中的某一个格子，则之后不能再次进入这个格子。 例如 a b c e s f c s a d e e 这样的3 X 4 矩阵中包含一条字符串\"bcced\"的路径，但是矩阵中不包含\"abcb\"路径，因为字符串的第一个字符b占据了矩阵中的第一行第二个格子之后，路径不能再次进入该格子。"
   ]
  },
  {
   "cell_type": "code",
   "execution_count": 63,
   "metadata": {},
   "outputs": [],
   "source": [
    "# -*- coding:utf-8 -*-\n",
    "class Solution:\n",
    "    def hasPath(self, matrix, rows, cols, path):\n",
    "        # write code here\n",
    "        if not matrix or rows < 1 or cols < 1 or not path:\n",
    "            return False\n",
    "        visited = [0] * (rows * cols)\n",
    "        path_length = 0\n",
    "        for row in range(rows):\n",
    "            for col in range(cols):\n",
    "                if self.hasPathCore(matrix, rows, cols, row, col, path, path_length, visited):\n",
    "                    return True\n",
    "        return False\n",
    "    \n",
    "    def hasPathCore(self, matrix, rows, cols, row, col, path, path_length, visited):\n",
    "        if len(path) == path_length:\n",
    "            return True\n",
    "        has_path = False\n",
    "        if row >= 0 and row < rows and col >= 0 and col < cols and matrix[row * cols + col] == path[path_length] and not visited[row * cols + col]:\n",
    "            path_length += 1\n",
    "            visited[row * cols + col] = True\n",
    "            has_path = self.hasPathCore(matrix, rows, cols, row, col - 1, path, path_length, visited)\\\n",
    "                        or self.hasPathCore(matrix, rows, cols, row - 1, col, path, path_length, visited)\\\n",
    "                        or self.hasPathCore(matrix, rows, cols, row, col + 1, path, path_length, visited)\\\n",
    "                        or self.hasPathCore(matrix, rows, cols, row + 1, col, path, path_length, visited)\n",
    "            \n",
    "            if not has_path:\n",
    "                path_length -= 1\n",
    "                visited[row * cols + col] = False\n",
    "        return has_path"
   ]
  },
  {
   "cell_type": "code",
   "execution_count": 64,
   "metadata": {},
   "outputs": [],
   "source": [
    "test = Solution()"
   ]
  },
  {
   "cell_type": "code",
   "execution_count": 65,
   "metadata": {},
   "outputs": [
    {
     "data": {
      "text/plain": [
       "True"
      ]
     },
     "execution_count": 65,
     "metadata": {},
     "output_type": "execute_result"
    }
   ],
   "source": [
    "test.hasPath('abcesfcsadee', 3, 4, 'bcced')"
   ]
  },
  {
   "cell_type": "code",
   "execution_count": 66,
   "metadata": {},
   "outputs": [
    {
     "data": {
      "text/plain": [
       "False"
      ]
     },
     "execution_count": 66,
     "metadata": {},
     "output_type": "execute_result"
    }
   ],
   "source": [
    "test.hasPath('abcesfcsadee', 3, 4, 'abcb')"
   ]
  },
  {
   "cell_type": "code",
   "execution_count": null,
   "metadata": {},
   "outputs": [],
   "source": []
  }
 ],
 "metadata": {
  "kernelspec": {
   "display_name": "Python 2",
   "language": "python",
   "name": "python2"
  },
  "language_info": {
   "codemirror_mode": {
    "name": "ipython",
    "version": 2
   },
   "file_extension": ".py",
   "mimetype": "text/x-python",
   "name": "python",
   "nbconvert_exporter": "python",
   "pygments_lexer": "ipython2",
   "version": "2.7.15"
  }
 },
 "nbformat": 4,
 "nbformat_minor": 2
}
