{
 "cells": [
  {
   "cell_type": "markdown",
   "metadata": {},
   "source": [
    "# 删除链表中重复的结点"
   ]
  },
  {
   "cell_type": "markdown",
   "metadata": {},
   "source": [
    "题目描述\n",
    "\n",
    "在一个排序的链表中，存在重复的结点，请删除该链表中重复的结点，重复的结点不保留，返回链表头指针。 例如，链表1->2->3->3->4->4->5 处理后为 1->2->5"
   ]
  },
  {
   "cell_type": "code",
   "execution_count": 16,
   "metadata": {},
   "outputs": [],
   "source": [
    "# -*- coding:utf-8 -*-\n",
    "class ListNode:\n",
    "    def __init__(self, x):\n",
    "        self.val = x\n",
    "        self.next = None\n",
    "class Solution:\n",
    "    def deleteDuplication(self, pHead):\n",
    "        # write code here\n",
    "        if not pHead or not pHead.next:\n",
    "            return pHead\n",
    "        pPreNode = None\n",
    "        pNode = pHead\n",
    "        while pNode:\n",
    "            pNext = pNode.next\n",
    "            if pNext and pNext.val == pNode.val:\n",
    "                value = pNode.val\n",
    "                pToBeDel = pNode\n",
    "                while pToBeDel and pToBeDel.val == value:\n",
    "                    pNext = pToBeDel.next\n",
    "                    del pToBeDel\n",
    "                    pToBeDel = None\n",
    "                    pToBeDel = pNext\n",
    "                if pPreNode == None:\n",
    "                    pHead = pNext\n",
    "                else:\n",
    "                    pPreNode.next = pNext\n",
    "                pNode = pNext\n",
    "                \n",
    "            else:\n",
    "                pPreNode = pNode\n",
    "                pNode = pNode.next\n",
    "        return pHead"
   ]
  },
  {
   "cell_type": "code",
   "execution_count": 17,
   "metadata": {},
   "outputs": [],
   "source": [
    "test = Solution()"
   ]
  },
  {
   "cell_type": "code",
   "execution_count": 18,
   "metadata": {},
   "outputs": [],
   "source": [
    "n1, n2, n3, n3_2, n4, n4_2, n5 = ListNode(1), ListNode(2), ListNode(3), ListNode(3), ListNode(4), ListNode(4), ListNode(5)\n",
    "n1.next = n2          \n",
    "n2.next = n3\n",
    "n3.next = n3_2\n",
    "n3_2.next = n4\n",
    "n4.next = n4_2\n",
    "n4_2.next = n5"
   ]
  },
  {
   "cell_type": "code",
   "execution_count": 19,
   "metadata": {},
   "outputs": [
    {
     "name": "stdout",
     "output_type": "stream",
     "text": [
      "1\n",
      "2\n",
      "5\n"
     ]
    }
   ],
   "source": [
    "a = test.deleteDuplication(n1)  \n",
    "while a:\n",
    "    print(a.val)\n",
    "    a = a.next"
   ]
  },
  {
   "cell_type": "code",
   "execution_count": null,
   "metadata": {},
   "outputs": [],
   "source": []
  },
  {
   "cell_type": "code",
   "execution_count": null,
   "metadata": {},
   "outputs": [],
   "source": []
  }
 ],
 "metadata": {
  "kernelspec": {
   "display_name": "Python 2",
   "language": "python",
   "name": "python2"
  },
  "language_info": {
   "codemirror_mode": {
    "name": "ipython",
    "version": 2
   },
   "file_extension": ".py",
   "mimetype": "text/x-python",
   "name": "python",
   "nbconvert_exporter": "python",
   "pygments_lexer": "ipython2",
   "version": "2.7.15"
  }
 },
 "nbformat": 4,
 "nbformat_minor": 2
}
