{
 "cells": [
  {
   "cell_type": "markdown",
   "metadata": {},
   "source": [
    "# 链表中环的入口结点"
   ]
  },
  {
   "cell_type": "markdown",
   "metadata": {},
   "source": [
    "题目描述\n",
    "\n",
    "给一个链表，若其中包含环，请找出该链表的环的入口结点，否则，输出null。"
   ]
  },
  {
   "cell_type": "code",
   "execution_count": 6,
   "metadata": {},
   "outputs": [],
   "source": [
    "# -*- coding:utf-8 -*-\n",
    "class ListNode:\n",
    "    def __init__(self, x):\n",
    "        self.val = x\n",
    "        self.next = None\n",
    "class Solution:\n",
    "    def EntryNodeOfLoop(self, pHead):\n",
    "        # write code here\n",
    "        meeting_node = self.meeting_node(pHead)\n",
    "        if not meeting_node:\n",
    "            return None\n",
    "        # get the number of nodes in loop\n",
    "        nodes_in_loop = 1\n",
    "        pNode1 = meeting_node\n",
    "        while pNode1.next != meeting_node:\n",
    "            pNode1 = pNode1.next\n",
    "            nodes_in_loop += 1\n",
    "        \n",
    "        # move pNode1\n",
    "        pNode1 = pHead\n",
    "        for i in range(nodes_in_loop):\n",
    "            pNode1 = pNode1.next\n",
    "        \n",
    "        # move pNode1 and pNode2\n",
    "        pNode2 = pHead\n",
    "        while pNode1 != pNode2:\n",
    "            pNode1 = pNode1.next\n",
    "            pNode2 = pNode2.next\n",
    "        return pNode1\n",
    "    \n",
    "    def meeting_node(self, pHead):\n",
    "        if not pHead:\n",
    "            return None\n",
    "        pSlow = pHead.next\n",
    "        if not pSlow:\n",
    "            return None\n",
    "        \n",
    "        pFast = pSlow.next\n",
    "        while pFast and pSlow:\n",
    "            if pFast == pSlow:\n",
    "                return pFast\n",
    "            pSlow = pSlow.next\n",
    "            pFast = pFast.next\n",
    "            if pFast:\n",
    "                pFast = pFast.next\n",
    "        return None\n",
    "        "
   ]
  },
  {
   "cell_type": "code",
   "execution_count": 7,
   "metadata": {},
   "outputs": [],
   "source": [
    "test = Solution()"
   ]
  },
  {
   "cell_type": "code",
   "execution_count": 10,
   "metadata": {},
   "outputs": [],
   "source": [
    "n1, n2, n3, n4, n5, n6 = ListNode(1), ListNode(2), ListNode(3), ListNode(4), ListNode(5), ListNode(6)\n",
    "n1.next = n2\n",
    "n2.next = n3\n",
    "n3.next = n4\n",
    "n4.next = n5\n",
    "n5.next = n6\n",
    "n6.next = n3"
   ]
  },
  {
   "cell_type": "code",
   "execution_count": 12,
   "metadata": {},
   "outputs": [
    {
     "data": {
      "text/plain": [
       "3"
      ]
     },
     "execution_count": 12,
     "metadata": {},
     "output_type": "execute_result"
    }
   ],
   "source": [
    "test.EntryNodeOfLoop(n1).val"
   ]
  },
  {
   "cell_type": "code",
   "execution_count": null,
   "metadata": {},
   "outputs": [],
   "source": []
  }
 ],
 "metadata": {
  "kernelspec": {
   "display_name": "Python 2",
   "language": "python",
   "name": "python2"
  },
  "language_info": {
   "codemirror_mode": {
    "name": "ipython",
    "version": 2
   },
   "file_extension": ".py",
   "mimetype": "text/x-python",
   "name": "python",
   "nbconvert_exporter": "python",
   "pygments_lexer": "ipython2",
   "version": "2.7.15"
  }
 },
 "nbformat": 4,
 "nbformat_minor": 2
}
