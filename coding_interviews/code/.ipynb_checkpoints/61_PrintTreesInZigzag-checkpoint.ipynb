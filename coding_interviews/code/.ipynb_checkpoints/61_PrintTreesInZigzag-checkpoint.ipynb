{
 "cells": [
  {
   "cell_type": "markdown",
   "metadata": {},
   "source": [
    "# 按之字形顺序打印二叉树"
   ]
  },
  {
   "cell_type": "markdown",
   "metadata": {},
   "source": [
    "题目描述\n",
    "\n",
    "请实现一个函数按照之字形打印二叉树，即第一行按照从左到右的顺序打印，第二层按照从右至左的顺序打印，第三行按照从左到右的顺序打印，其他行以此类推。"
   ]
  },
  {
   "cell_type": "code",
   "execution_count": 19,
   "metadata": {},
   "outputs": [],
   "source": [
    "# -*- coding:utf-8 -*-c\n",
    "class TreeNode:\n",
    "    def __init__(self, x):\n",
    "        self.val = x\n",
    "        self.left = None\n",
    "        self.right = None\n",
    "class Solution:\n",
    "    def Print(self, pRoot):\n",
    "        # write code here  \n",
    "        if not pRoot:\n",
    "            return []\n",
    "        stack = [pRoot]\n",
    "        flag = 0\n",
    "        result = []\n",
    "        while stack:\n",
    "            res = []\n",
    "            next_stack = []\n",
    "            for pNode in stack:\n",
    "                res.append(pNode.val)\n",
    "                if pNode.left:\n",
    "                    next_stack.append(pNode.left)\n",
    "                if pNode.right:\n",
    "                    next_stack.append(pNode.right)\n",
    "            if flag:\n",
    "                result.append(res[::-1])\n",
    "            else:\n",
    "                result.append(res)\n",
    "            stack = next_stack\n",
    "            flag = 1 - flag\n",
    "        return result"
   ]
  },
  {
   "cell_type": "code",
   "execution_count": 20,
   "metadata": {},
   "outputs": [],
   "source": [
    "test = Solution()"
   ]
  },
  {
   "cell_type": "code",
   "execution_count": 21,
   "metadata": {},
   "outputs": [],
   "source": [
    "n1, n2, n3, n4, n5, n6, n7 = TreeNode(8), TreeNode(6), TreeNode(5), TreeNode(7), TreeNode(10), TreeNode(9), TreeNode(11)\n",
    "n1.left = n2\n",
    "n2.left = n3\n",
    "n2.right = n4\n",
    "n1.right = n5\n",
    "n5.left = n6\n",
    "n5.right = n7"
   ]
  },
  {
   "cell_type": "code",
   "execution_count": 22,
   "metadata": {},
   "outputs": [
    {
     "data": {
      "text/plain": [
       "[[8], [10, 6], [5, 7, 9, 11]]"
      ]
     },
     "execution_count": 22,
     "metadata": {},
     "output_type": "execute_result"
    }
   ],
   "source": [
    "test.Print(n1)"
   ]
  },
  {
   "cell_type": "code",
   "execution_count": null,
   "metadata": {},
   "outputs": [],
   "source": []
  },
  {
   "cell_type": "code",
   "execution_count": null,
   "metadata": {},
   "outputs": [],
   "source": []
  }
 ],
 "metadata": {
  "kernelspec": {
   "display_name": "Python 2",
   "language": "python",
   "name": "python2"
  },
  "language_info": {
   "codemirror_mode": {
    "name": "ipython",
    "version": 2
   },
   "file_extension": ".py",
   "mimetype": "text/x-python",
   "name": "python",
   "nbconvert_exporter": "python",
   "pygments_lexer": "ipython2",
   "version": "2.7.15"
  }
 },
 "nbformat": 4,
 "nbformat_minor": 2
}
