{
 "cells": [
  {
   "cell_type": "markdown",
   "metadata": {},
   "source": [
    "# 把二叉树打印成多行"
   ]
  },
  {
   "cell_type": "markdown",
   "metadata": {},
   "source": [
    "题目描述\n",
    "\n",
    "从上到下按层打印二叉树，同一层结点从左至右输出。每一层输出一行。"
   ]
  },
  {
   "cell_type": "code",
   "execution_count": 32,
   "metadata": {},
   "outputs": [],
   "source": [
    "# -*- coding:utf-8 -*-\n",
    "class TreeNode:\n",
    "    def __init__(self, x):\n",
    "        self.val = x\n",
    "        self.left = None\n",
    "        self.right = None\n",
    "class Solution:\n",
    "    # 返回二维列表[[1,2],[4,5]]\n",
    "    def Print(self, pRoot):\n",
    "        # write code here\n",
    "        if not pRoot:\n",
    "            return []\n",
    "        queue = [pRoot]\n",
    "        result = []\n",
    "        res = []\n",
    "        toBePrinted = 1\n",
    "        nextLevel = 0\n",
    "        while queue:\n",
    "            pNode = queue.pop(0)\n",
    "            res.append(pNode.val)\n",
    "            if pNode.left:\n",
    "                queue.append(pNode.left)\n",
    "                nextLevel += 1\n",
    "            if pNode.right:\n",
    "                queue.append(pNode.right)\n",
    "                nextLevel += 1\n",
    "            toBePrinted -= 1\n",
    "            if toBePrinted == 0:\n",
    "                result.append(res)\n",
    "                res = []\n",
    "                toBePrinted = nextLevel\n",
    "                nextLevel = 0\n",
    "        return result"
   ]
  },
  {
   "cell_type": "code",
   "execution_count": 33,
   "metadata": {},
   "outputs": [],
   "source": [
    "test = Solution()"
   ]
  },
  {
   "cell_type": "code",
   "execution_count": 34,
   "metadata": {},
   "outputs": [],
   "source": [
    "n1, n2, n3, n4, n5, n6, n7 = TreeNode(8), TreeNode(6), TreeNode(5), TreeNode(7), TreeNode(10), TreeNode(9), TreeNode(11)\n",
    "n1.left = n2\n",
    "n2.left = n3\n",
    "n2.right = n4\n",
    "n1.right = n5\n",
    "n5.left = n6\n",
    "n5.right = n7"
   ]
  },
  {
   "cell_type": "code",
   "execution_count": 35,
   "metadata": {},
   "outputs": [
    {
     "data": {
      "text/plain": [
       "[[8], [6, 10], [5, 7, 9, 11]]"
      ]
     },
     "execution_count": 35,
     "metadata": {},
     "output_type": "execute_result"
    }
   ],
   "source": [
    "test.Print(n1)"
   ]
  },
  {
   "cell_type": "code",
   "execution_count": 36,
   "metadata": {},
   "outputs": [
    {
     "data": {
      "text/plain": [
       "[]"
      ]
     },
     "execution_count": 36,
     "metadata": {},
     "output_type": "execute_result"
    }
   ],
   "source": [
    "test.Print(None)"
   ]
  },
  {
   "cell_type": "code",
   "execution_count": 46,
   "metadata": {},
   "outputs": [],
   "source": [
    "# -*- coding:utf-8 -*-\n",
    "class TreeNode:\n",
    "    def __init__(self, x):\n",
    "        self.val = x\n",
    "        self.left = None\n",
    "        self.right = None\n",
    "class Solution:\n",
    "    # 返回二维列表[[1,2],[4,5]]\n",
    "    def Print(self, pRoot):\n",
    "        # write code here\n",
    "        if not pRoot:\n",
    "            return []\n",
    "        queue = [pRoot]\n",
    "        result = []\n",
    "        while queue:\n",
    "            res = []\n",
    "            next_queue = []\n",
    "            for pNode in queue:\n",
    "                res.append(pNode.val)\n",
    "                if pNode.left:\n",
    "                    next_queue.append(pNode.left)\n",
    "                if pNode.right:\n",
    "                    next_queue.append(pNode.right)\n",
    "            result.append(res)\n",
    "            queue = next_queue\n",
    "        return result"
   ]
  },
  {
   "cell_type": "code",
   "execution_count": 47,
   "metadata": {},
   "outputs": [],
   "source": [
    "test = Solution()"
   ]
  },
  {
   "cell_type": "code",
   "execution_count": 48,
   "metadata": {},
   "outputs": [],
   "source": [
    "n1, n2, n3, n4, n5, n6, n7 = TreeNode(8), TreeNode(6), TreeNode(5), TreeNode(7), TreeNode(10), TreeNode(9), TreeNode(11)\n",
    "n1.left = n2\n",
    "n2.left = n3\n",
    "n2.right = n4\n",
    "n1.right = n5\n",
    "n5.left = n6\n",
    "n5.right = n7"
   ]
  },
  {
   "cell_type": "code",
   "execution_count": 49,
   "metadata": {},
   "outputs": [
    {
     "data": {
      "text/plain": [
       "[[8], [6, 10], [5, 7, 9, 11]]"
      ]
     },
     "execution_count": 49,
     "metadata": {},
     "output_type": "execute_result"
    }
   ],
   "source": [
    "test.Print(n1)"
   ]
  },
  {
   "cell_type": "code",
   "execution_count": null,
   "metadata": {},
   "outputs": [],
   "source": []
  },
  {
   "cell_type": "code",
   "execution_count": null,
   "metadata": {},
   "outputs": [],
   "source": []
  }
 ],
 "metadata": {
  "kernelspec": {
   "display_name": "Python 2",
   "language": "python",
   "name": "python2"
  },
  "language_info": {
   "codemirror_mode": {
    "name": "ipython",
    "version": 2
   },
   "file_extension": ".py",
   "mimetype": "text/x-python",
   "name": "python",
   "nbconvert_exporter": "python",
   "pygments_lexer": "ipython2",
   "version": "2.7.15"
  }
 },
 "nbformat": 4,
 "nbformat_minor": 2
}
