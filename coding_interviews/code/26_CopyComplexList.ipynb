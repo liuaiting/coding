{
 "cells": [
  {
   "cell_type": "markdown",
   "metadata": {},
   "source": [
    "# 复杂链表的复制"
   ]
  },
  {
   "cell_type": "markdown",
   "metadata": {},
   "source": [
    "题目描述\n",
    "\n",
    "输入一个复杂链表（每个节点中有节点值，以及两个指针，一个指向下一个节点，另一个特殊指针指向任意一个节点），返回结果为复制后复杂链表的head。（注意，输出结果中请不要返回参数中的节点引用，否则判题程序会直接返回空）"
   ]
  },
  {
   "cell_type": "code",
   "execution_count": 7,
   "metadata": {},
   "outputs": [],
   "source": [
    "# -*- coding:utf-8 -*-\n",
    "class RandomListNode:\n",
    "    def __init__(self, x):\n",
    "        self.label = x\n",
    "        self.next = None\n",
    "        self.random = None\n",
    "class Solution:\n",
    "    # 返回 RandomListNode\n",
    "    def Clone(self, pHead):\n",
    "        # write code here\n",
    "        if not pHead:\n",
    "            return\n",
    "        \n",
    "        pNode = pHead\n",
    "        while pNode:\n",
    "            pCloned = RandomListNode(pNode.label)\n",
    "            pCloned.next = pNode.next\n",
    "            pNode.next = pCloned\n",
    "            pNode = pCloned.next\n",
    "            \n",
    "        pNode = pHead\n",
    "        while pNode:\n",
    "            pCloned = pNode.next\n",
    "            if pNode.random:\n",
    "                pCloned.random = pNode.random.next\n",
    "            pNode = pCloned.next\n",
    "        \n",
    "        pNode = pHead\n",
    "        if pNode:\n",
    "            pClonedHead = pClonedNode = pNode.next\n",
    "            pNode.next = pClonedNode.next\n",
    "            pNode = pNode.next\n",
    "        while pNode:\n",
    "            pClonedNode.next = pNode.next\n",
    "            pClonedNode = pClonedNode.next\n",
    "            pNode.next = pClonedNode.next\n",
    "            pNode = pNode.next\n",
    "        return pClonedHead"
   ]
  },
  {
   "cell_type": "code",
   "execution_count": null,
   "metadata": {},
   "outputs": [],
   "source": []
  },
  {
   "cell_type": "code",
   "execution_count": null,
   "metadata": {},
   "outputs": [],
   "source": []
  },
  {
   "cell_type": "code",
   "execution_count": null,
   "metadata": {},
   "outputs": [],
   "source": []
  },
  {
   "cell_type": "code",
   "execution_count": null,
   "metadata": {},
   "outputs": [],
   "source": []
  }
 ],
 "metadata": {
  "kernelspec": {
   "display_name": "Python 3",
   "language": "python",
   "name": "python3"
  },
  "language_info": {
   "codemirror_mode": {
    "name": "ipython",
    "version": 3
   },
   "file_extension": ".py",
   "mimetype": "text/x-python",
   "name": "python",
   "nbconvert_exporter": "python",
   "pygments_lexer": "ipython3",
   "version": "3.6.5"
  }
 },
 "nbformat": 4,
 "nbformat_minor": 2
}
