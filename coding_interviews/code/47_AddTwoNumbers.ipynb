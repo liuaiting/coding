{
 "cells": [
  {
   "cell_type": "markdown",
   "metadata": {},
   "source": [
    "# 不用加减乘除做加法"
   ]
  },
  {
   "cell_type": "markdown",
   "metadata": {},
   "source": [
    "题目描述\n",
    "\n",
    "写一个函数，求两个整数之和，要求在函数体内不得使用+、-、*、/四则运算符号。"
   ]
  },
  {
   "cell_type": "markdown",
   "metadata": {},
   "source": [
    "## Note：在Python中，对于超出32位的大整数，会自动进行大整数的转变，（python没有无符号右移操作），所以需要越界检查"
   ]
  },
  {
   "cell_type": "markdown",
   "metadata": {},
   "source": [
    "采用位操作来实现，利用异或运算来计算不带进位的加法结果，利用与运算计算进位的标志，然后将这两个结果进行不带进位相加，重复上述过程，直至进位标志位0."
   ]
  },
  {
   "cell_type": "code",
   "execution_count": 8,
   "metadata": {},
   "outputs": [],
   "source": [
    "# -*- coding:utf-8 -*-\n",
    "class Solution:\n",
    "    def Add(self, num1, num2):\n",
    "        # write code here\n",
    "        while num2!=0:\n",
    "            tmp = num1^num2\n",
    "            num2 = (num1&num2)<<1\n",
    "            num1 = tmp\n",
    "        return num1"
   ]
  },
  {
   "cell_type": "markdown",
   "metadata": {},
   "source": [
    "发现当一个整数和一个负数相加时出现了死循环，其实问题出在tmp = num1^num2这条语句中。\n",
    "实际上，在进行负数的按位加法时，有可能发生在最高位还要向前进一位的情形，正常来说，这种进位因为超出了一个int可以表示的最大位数，应该舍去才能得到正确的结果。因此，对于Java，c，c++这样写是正确的。而对于Python，却有点不同。\n",
    "在早期版本中如Python2.7中，整数的有int和long两个类型。int类型是一个固定位数的数；long则是一个理论上可以存储无限大数的数据类型。当数大到可能溢出时，为了避免溢出，python会把int转化为long。而Python3.x之后整数只有一个可以放任意大数的int了。可是无论哪种，都是采用了特殊的方法实现了不会溢出的大整数。 所以会使程序无限的算下去，这也是Python效率低的一个原因。\n",
    "改正的代码，可以每次都把num1规定成一个32位的数\n",
    "\n",
    "作者：木的3次方\n",
    "链接：https://www.jianshu.com/p/21fd1598d4ae\n",
    "來源：简书\n",
    "简书著作权归作者所有，任何形式的转载都请联系作者获得授权并注明出处。"
   ]
  },
  {
   "cell_type": "code",
   "execution_count": 9,
   "metadata": {},
   "outputs": [],
   "source": [
    "# -*- coding:utf-8 -*-\n",
    "class Solution:\n",
    "    def Add(self, num1, num2):\n",
    "        # write code here\n",
    "        while num2:\n",
    "            result = (num1 ^ num2) & 0xffffffff\n",
    "            carry = ((num1 & num2) << 1) & 0xffffffff\n",
    "            num1 = result\n",
    "            num2 = carry\n",
    "        if num1 <= 0x7fffffff:\n",
    "            result = num1\n",
    "        else:\n",
    "            result = ~(num1 ^ 0xffffffff)\n",
    "        return result"
   ]
  },
  {
   "cell_type": "code",
   "execution_count": 10,
   "metadata": {},
   "outputs": [],
   "source": [
    "test = Solution()"
   ]
  },
  {
   "cell_type": "code",
   "execution_count": 11,
   "metadata": {},
   "outputs": [
    {
     "data": {
      "text/plain": [
       "1"
      ]
     },
     "execution_count": 11,
     "metadata": {},
     "output_type": "execute_result"
    }
   ],
   "source": [
    "test.Add(3, -2)"
   ]
  },
  {
   "cell_type": "code",
   "execution_count": 12,
   "metadata": {},
   "outputs": [
    {
     "data": {
      "text/plain": [
       "3"
      ]
     },
     "execution_count": 12,
     "metadata": {},
     "output_type": "execute_result"
    }
   ],
   "source": [
    "test.Add(3, 0)"
   ]
  },
  {
   "cell_type": "code",
   "execution_count": 15,
   "metadata": {},
   "outputs": [
    {
     "data": {
      "text/plain": [
       "-2147483645"
      ]
     },
     "execution_count": 15,
     "metadata": {},
     "output_type": "execute_result"
    }
   ],
   "source": [
    "test.Add(2147483647, 4)\n",
    "# -2147483648~2147483647"
   ]
  },
  {
   "cell_type": "code",
   "execution_count": 14,
   "metadata": {},
   "outputs": [
    {
     "data": {
      "text/plain": [
       "-7"
      ]
     },
     "execution_count": 14,
     "metadata": {},
     "output_type": "execute_result"
    }
   ],
   "source": [
    "test.Add(-3, -4)"
   ]
  },
  {
   "cell_type": "code",
   "execution_count": null,
   "metadata": {},
   "outputs": [],
   "source": []
  }
 ],
 "metadata": {
  "kernelspec": {
   "display_name": "Python 2",
   "language": "python",
   "name": "python2"
  },
  "language_info": {
   "codemirror_mode": {
    "name": "ipython",
    "version": 2
   },
   "file_extension": ".py",
   "mimetype": "text/x-python",
   "name": "python",
   "nbconvert_exporter": "python",
   "pygments_lexer": "ipython2",
   "version": "2.7.15"
  }
 },
 "nbformat": 4,
 "nbformat_minor": 2
}
