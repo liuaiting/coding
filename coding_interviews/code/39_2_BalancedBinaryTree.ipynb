{
 "cells": [
  {
   "cell_type": "markdown",
   "metadata": {},
   "source": [
    "# 平衡二叉树"
   ]
  },
  {
   "cell_type": "markdown",
   "metadata": {},
   "source": [
    "题目描述\n",
    "\n",
    "输入一棵二叉树，判断该二叉树是否是平衡二叉树。"
   ]
  },
  {
   "cell_type": "markdown",
   "metadata": {},
   "source": [
    "## 时间复杂度O(n)"
   ]
  },
  {
   "cell_type": "code",
   "execution_count": 5,
   "metadata": {},
   "outputs": [],
   "source": [
    "# -*- coding:utf-8 -*-\n",
    "class TreeNode:\n",
    "    def __init__(self, x):\n",
    "        self.val = x\n",
    "        self.left = None\n",
    "        self.right = None\n",
    "class Solution:\n",
    "    def IsBalanced_Solution(self, pRoot):\n",
    "        # write code here\n",
    "        return self.is_balanced(pRoot)\n",
    "    \n",
    "    def is_balanced(self, pRoot):\n",
    "        if not pRoot:\n",
    "            return True\n",
    "        left = self.TreeDepth(pRoot.left)\n",
    "        right = self.TreeDepth(pRoot.right)\n",
    "        diff = left - right\n",
    "        if diff > 1 or diff < -1:\n",
    "            return False\n",
    "        return self.is_balanced(pRoot.left) and self.is_balanced(pRoot.right)\n",
    "    \n",
    "    def TreeDepth(self, pRoot):\n",
    "        if not pRoot:\n",
    "            return 0\n",
    "        left = self.TreeDepth(pRoot.left)\n",
    "        right = self.TreeDepth(pRoot.right)\n",
    "        if left > right:\n",
    "            return left + 1\n",
    "        else:\n",
    "            return right + 1"
   ]
  },
  {
   "cell_type": "code",
   "execution_count": 6,
   "metadata": {},
   "outputs": [],
   "source": [
    "test = Solution()"
   ]
  },
  {
   "cell_type": "code",
   "execution_count": 7,
   "metadata": {},
   "outputs": [],
   "source": [
    "tree = TreeNode(1)\n",
    "tree.left = TreeNode(2)\n",
    "tree.right = TreeNode(3)\n",
    "tree.left.left = TreeNode(4)\n",
    "tree.left.right = TreeNode(5)\n",
    "tree.left.right.left = TreeNode(7)\n",
    "tree.right = TreeNode(3)\n",
    "tree.right.right = TreeNode(6)"
   ]
  },
  {
   "cell_type": "code",
   "execution_count": 8,
   "metadata": {},
   "outputs": [
    {
     "data": {
      "text/plain": [
       "True"
      ]
     },
     "execution_count": 8,
     "metadata": {},
     "output_type": "execute_result"
    }
   ],
   "source": [
    "test.IsBalanced_Solution(tree)"
   ]
  },
  {
   "cell_type": "markdown",
   "metadata": {},
   "source": [
    "## 时间复杂度O(logn)"
   ]
  },
  {
   "cell_type": "code",
   "execution_count": 31,
   "metadata": {},
   "outputs": [],
   "source": [
    "# -*- coding:utf-8 -*-\n",
    "class TreeNode:\n",
    "    def __init__(self, x):\n",
    "        self.val = x\n",
    "        self.left = None\n",
    "        self.right = None\n",
    "class Solution:\n",
    "    def __init__(self):\n",
    "        self.flag = True\n",
    "    def IsBalanced_Solution(self, pRoot):\n",
    "        # write code here\n",
    "        self.is_balanced(pRoot)\n",
    "        return self.flag\n",
    "    \n",
    "    def is_balanced(self, pRoot):\n",
    "        if not pRoot:\n",
    "            return 0\n",
    "        \n",
    "        left = self.is_balanced(pRoot.left)\n",
    "        right = self.is_balanced(pRoot.right)\n",
    "        diff = left - right\n",
    "        if abs(diff) > 1:\n",
    "            self.flag = False\n",
    "        else:\n",
    "            self.flag = True\n",
    "        return left + 1 if diff > 0 else right + 1"
   ]
  },
  {
   "cell_type": "code",
   "execution_count": 32,
   "metadata": {},
   "outputs": [],
   "source": [
    "test = Solution()"
   ]
  },
  {
   "cell_type": "code",
   "execution_count": 33,
   "metadata": {},
   "outputs": [],
   "source": [
    "tree = TreeNode(1)\n",
    "tree.left = TreeNode(2)\n",
    "tree.right = TreeNode(3)\n",
    "tree.left.left = TreeNode(4)\n",
    "tree.left.right = TreeNode(5)\n",
    "tree.left.right.left = TreeNode(7)\n",
    "tree.right = TreeNode(3)\n",
    "tree.right.right = TreeNode(6)"
   ]
  },
  {
   "cell_type": "code",
   "execution_count": 34,
   "metadata": {},
   "outputs": [
    {
     "data": {
      "text/plain": [
       "True"
      ]
     },
     "execution_count": 34,
     "metadata": {},
     "output_type": "execute_result"
    }
   ],
   "source": [
    "test.IsBalanced_Solution(tree)"
   ]
  },
  {
   "cell_type": "code",
   "execution_count": null,
   "metadata": {},
   "outputs": [],
   "source": []
  },
  {
   "cell_type": "code",
   "execution_count": null,
   "metadata": {},
   "outputs": [],
   "source": []
  }
 ],
 "metadata": {
  "kernelspec": {
   "display_name": "Python 2",
   "language": "python",
   "name": "python2"
  },
  "language_info": {
   "codemirror_mode": {
    "name": "ipython",
    "version": 2
   },
   "file_extension": ".py",
   "mimetype": "text/x-python",
   "name": "python",
   "nbconvert_exporter": "python",
   "pygments_lexer": "ipython2",
   "version": "2.7.15"
  }
 },
 "nbformat": 4,
 "nbformat_minor": 2
}
