{
 "cells": [
  {
   "cell_type": "markdown",
   "metadata": {},
   "source": [
    "# 两个链表的第一个公共结点"
   ]
  },
  {
   "cell_type": "markdown",
   "metadata": {},
   "source": [
    "题目描述\n",
    "\n",
    "输入两个链表，找出它们的第一个公共结点。"
   ]
  },
  {
   "cell_type": "code",
   "execution_count": 28,
   "metadata": {},
   "outputs": [],
   "source": [
    "# -*- coding:utf-8 -*-\n",
    "class ListNode:\n",
    "    def __init__(self, x):\n",
    "        self.val = x\n",
    "        self.next = None\n",
    "class Solution:\n",
    "    def FindFirstCommonNode(self, pHead1, pHead2):\n",
    "        # write code here\n",
    "        if not pHead1 or not pHead2:\n",
    "            return None\n",
    "        l1, l2 = self.get_list_length(pHead1), self.get_list_length(pHead2)\n",
    "        length_dif = l1 - l2\n",
    "        pHeadLong = pHead1\n",
    "        pHeadShort = pHead2\n",
    "        if length_dif < 0:\n",
    "            pHeadLong = pHead2\n",
    "            pHeadShort = pHead1\n",
    "        for i in range(length_dif):\n",
    "            pHeadLong = pHeadLong.next\n",
    "        while pHeadLong and pHeadShort:\n",
    "            if pHeadLong.val == pHeadShort.val:\n",
    "                return pHeadLong\n",
    "                break\n",
    "            pHeadLong = pHeadLong.next\n",
    "            pHeadShort = pHeadShort.next\n",
    "    \n",
    "    def get_list_length(self, pHead):\n",
    "        length = 0\n",
    "        while pHead:\n",
    "            length += 1\n",
    "            pHead = pHead.next\n",
    "        return length\n",
    "    "
   ]
  },
  {
   "cell_type": "code",
   "execution_count": 29,
   "metadata": {},
   "outputs": [],
   "source": [
    "test = Solution()"
   ]
  },
  {
   "cell_type": "code",
   "execution_count": 34,
   "metadata": {},
   "outputs": [
    {
     "data": {
      "text/plain": [
       "6"
      ]
     },
     "execution_count": 34,
     "metadata": {},
     "output_type": "execute_result"
    }
   ],
   "source": [
    "n1, n2, n3, n4, n5, n6, n7 = ListNode(1), ListNode(2), ListNode(3), ListNode(4), ListNode(5), ListNode(6), ListNode(7) \n",
    "list1 = n1\n",
    "n1.next = n2\n",
    "n2.next = n3\n",
    "list2 = n4\n",
    "n4.next = n5\n",
    "n3.next = n6\n",
    "n5.next = n6\n",
    "n6.next = n7\n",
    "test.FindFirstCommonNode(list1, list2).val"
   ]
  },
  {
   "cell_type": "code",
   "execution_count": 36,
   "metadata": {},
   "outputs": [],
   "source": [
    "n1, n2, n3, n4, n5, n6, n7 = ListNode(1), ListNode(2), ListNode(3), ListNode(4), ListNode(5), ListNode(6), ListNode(7) \n",
    "list1 = n1\n",
    "n1.next = n2\n",
    "n2.next = n3\n",
    "list2 = n4\n",
    "n4.next = n5\n",
    "n3.next = n6\n",
    "# n5.next = n6\n",
    "# n6.next = n7\n",
    "test.FindFirstCommonNode(list1, list2)"
   ]
  },
  {
   "cell_type": "code",
   "execution_count": null,
   "metadata": {},
   "outputs": [],
   "source": []
  }
 ],
 "metadata": {
  "kernelspec": {
   "display_name": "Python 2",
   "language": "python",
   "name": "python2"
  },
  "language_info": {
   "codemirror_mode": {
    "name": "ipython",
    "version": 2
   },
   "file_extension": ".py",
   "mimetype": "text/x-python",
   "name": "python",
   "nbconvert_exporter": "python",
   "pygments_lexer": "ipython2",
   "version": "2.7.15"
  }
 },
 "nbformat": 4,
 "nbformat_minor": 2
}
