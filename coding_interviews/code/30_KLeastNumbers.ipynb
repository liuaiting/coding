{
 "cells": [
  {
   "cell_type": "markdown",
   "metadata": {},
   "source": [
    "# 最小的k个数"
   ]
  },
  {
   "cell_type": "markdown",
   "metadata": {},
   "source": [
    "题目描述\n",
    "\n",
    "输入n个整数，找出其中最小的K个数。例如输入4,5,1,6,2,7,3,8这8个数字，则最小的4个数字是1,2,3,4,。"
   ]
  },
  {
   "cell_type": "markdown",
   "metadata": {},
   "source": [
    "## 解法一：堆排序"
   ]
  },
  {
   "cell_type": "code",
   "execution_count": 130,
   "metadata": {},
   "outputs": [],
   "source": [
    "# -*- coding:utf-8 -*-\n",
    "import copy\n",
    "class Solution:\n",
    "    def GetLeastNumbers_Solution(self, tinput, k):\n",
    "        # write code here\n",
    "        if not tinput:\n",
    "            return []\n",
    "        lst = copy.deepcopy(tinput)\n",
    "        lst.insert(0,0)\n",
    "        length = len(lst) - 1\n",
    "        if k > length:\n",
    "            return []\n",
    "        \n",
    "        for i in range(length // 2, 0, -1):\n",
    "            self.heap_adjust(lst, i, length)\n",
    "        for i in range(length, 1, -1):\n",
    "            lst[1], lst[i] = lst[i], lst[1]\n",
    "            self.heap_adjust(lst, 1, i-1)\n",
    "        print(lst)\n",
    "        return lst[1:k+1]\n",
    "\n",
    "    def heap_adjust(self, lst, s, m):\n",
    "        rc = lst[s]\n",
    "        j = 2 * s\n",
    "        while j <= m:\n",
    "            if j < m and lst[j] < lst[j+1]:\n",
    "                j += 1\n",
    "            if rc > lst[j]:\n",
    "                break\n",
    "            lst[s] = lst[j]\n",
    "            s = j\n",
    "            j *= 2\n",
    "        lst[s] = rc\n",
    "        return lst"
   ]
  },
  {
   "cell_type": "code",
   "execution_count": 131,
   "metadata": {},
   "outputs": [],
   "source": [
    "test = Solution()"
   ]
  },
  {
   "cell_type": "code",
   "execution_count": 132,
   "metadata": {},
   "outputs": [
    {
     "name": "stdout",
     "output_type": "stream",
     "text": [
      "[0, 1, 2, 3, 4, 5, 6, 7, 8]\n"
     ]
    },
    {
     "data": {
      "text/plain": [
       "[1, 2, 3, 4, 5, 6]"
      ]
     },
     "execution_count": 132,
     "metadata": {},
     "output_type": "execute_result"
    }
   ],
   "source": [
    "test.GetLeastNumbers_Solution([4,5,1,6,2,7,3,8],6)"
   ]
  },
  {
   "cell_type": "code",
   "execution_count": 133,
   "metadata": {},
   "outputs": [
    {
     "name": "stdout",
     "output_type": "stream",
     "text": [
      "[0, 13, 27, 38, 49, 50, 65, 76, 97]\n"
     ]
    },
    {
     "data": {
      "text/plain": [
       "[13, 27, 38, 49, 50, 65]"
      ]
     },
     "execution_count": 133,
     "metadata": {},
     "output_type": "execute_result"
    }
   ],
   "source": [
    "test.GetLeastNumbers_Solution([49,38,13,50,76,65,27,97],6)"
   ]
  },
  {
   "cell_type": "markdown",
   "metadata": {},
   "source": [
    "## 解法二：快速排序"
   ]
  },
  {
   "cell_type": "code",
   "execution_count": null,
   "metadata": {},
   "outputs": [],
   "source": []
  },
  {
   "cell_type": "code",
   "execution_count": null,
   "metadata": {},
   "outputs": [],
   "source": []
  }
 ],
 "metadata": {
  "kernelspec": {
   "display_name": "Python 2",
   "language": "python",
   "name": "python2"
  },
  "language_info": {
   "codemirror_mode": {
    "name": "ipython",
    "version": 2
   },
   "file_extension": ".py",
   "mimetype": "text/x-python",
   "name": "python",
   "nbconvert_exporter": "python",
   "pygments_lexer": "ipython2",
   "version": "2.7.15"
  }
 },
 "nbformat": 4,
 "nbformat_minor": 2
}
