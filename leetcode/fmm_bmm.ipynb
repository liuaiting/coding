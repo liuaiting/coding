{
 "cells": [
  {
   "cell_type": "markdown",
   "metadata": {},
   "source": [
    "# 双向最大匹配\n",
    "\n",
    "https://blog.csdn.net/Elenore1997/article/details/83274720\n",
    "\n",
    "https://blog.csdn.net/weixin_43256799/article/details/86098695\n",
    "\n",
    "算法描述\n",
    "正向最大匹配算法\n",
    "先设定扫描的窗口大小maxLen（最好是字典最长的单词长度），从左向右取待切分汉语句的maxLen个字符作为匹配字段。查找词典并进行匹配。若匹配成功，则将这个匹配字段作为一个词切分出来，并将窗口向右移动这个单词的长度。若匹配不成功，则将这个匹配字段的最后一个字去掉，剩下的字符串作为新的匹配字段，进行再次匹配，重复以上过程，直到切分出所有词为止。\n",
    "\n",
    "反向最大匹配算法\n",
    "该算法是正向的逆向算法，区别是窗口是从后向左扫描，若匹配不成功，则去掉第一个字符，重复上述的匹配步骤。\n",
    "\n",
    "双向最大匹配算法\n",
    "双向最大匹配法是将正向最大匹配法得到的分词结果和逆向最大匹配法的到的结果进行比较，从而决定正确的分词方法。定义的匹配规则如下：\n",
    "\n",
    "如果正反向匹配算法得到的结果相同，我们则认为分词正确，返回任意一个结果即可。\n",
    "如果正反向匹配算法得到的结果不同，则考虑单字词、非字典词、总词数数量的数量，三者的数量越少，认为分词的效果越好。我们设定一个惩罚分数（score_fmm / score_bmm = 0），例如：正向匹配中单字词数量多于反向匹配，则正向匹配的分值score_fmm += 1。其他两个条件相同。可以根据实际的分词效果调整惩罚分数的大小，但由于没有正确分词的数据，因此惩罚分数都设为1。最后比较惩罚分数，返回较小的匹配结果。\n"
   ]
  },
  {
   "cell_type": "code",
   "execution_count": 49,
   "metadata": {},
   "outputs": [],
   "source": [
    "def fmm(text, dic):\n",
    "    res = []\n",
    "    index = 0\n",
    "    window_size = max([len(w) for w in dic])\n",
    "    while index < len(text):\n",
    "        for size in range(window_size, 0, -1):\n",
    "            piece = text[index:index + size]\n",
    "            if piece in dic:\n",
    "                index = index + size - 1\n",
    "                break\n",
    "        index += 1\n",
    "        res.append(piece)\n",
    "    return res"
   ]
  },
  {
   "cell_type": "code",
   "execution_count": 50,
   "metadata": {},
   "outputs": [],
   "source": [
    "def bmm(text, dic):\n",
    "    res = []\n",
    "    index = len(text)\n",
    "    window_size = max([len(w) for w in dic])\n",
    "    while index > 0:\n",
    "        for size in range(window_size, 0, -1):\n",
    "            piece = text[index - size:index]\n",
    "            if piece in dic:\n",
    "                index = index - size + 1\n",
    "                break\n",
    "        index -= 1\n",
    "        res.append(piece)\n",
    "    return res[::-1]"
   ]
  },
  {
   "cell_type": "code",
   "execution_count": 51,
   "metadata": {},
   "outputs": [],
   "source": [
    "def bimm(text, dic):\n",
    "    fw = fmm(text, dic)\n",
    "    bw = bmm(text, dic)\n",
    "    # 正反向分词结果\n",
    "    print(\"FMM: \", fw)\n",
    "    print(\"BMM: \", bw)\n",
    "    # 单字词个数\n",
    "    f_single_word = 0\n",
    "    b_single_word = 0\n",
    "    # 总词数\n",
    "    tot_fmm = len(fw)\n",
    "    tot_bmm = len(bw)\n",
    "    # 非字典词数\n",
    "    oov_fmm = 0\n",
    "    oov_bmm = 0\n",
    "    # 罚分，罚分值越低越好\n",
    "    score_fmm = 0\n",
    "    score_bmm = 0\n",
    "    # 如果正向和反向结果一样，返回任意一个\n",
    "    if fw == bw:\n",
    "        return fw\n",
    "    else:  # 分词结果不同，返回单字数、非字典词、总词数少的那一个\n",
    "        for w in fw:\n",
    "            if len(w) == 1:\n",
    "                f_single_word += 1\n",
    "            if w not in dic:\n",
    "                oov_fmm += 1\n",
    "        for w in bw:\n",
    "            if len(w) == 1:\n",
    "                b_single_word += 1\n",
    "            if w not in dic:\n",
    "                oov_bmm += 1\n",
    "        # 可以根据实际情况调整惩罚分值\n",
    "        # 这里都罚分都为1分\n",
    "        # 非字典词越少越好\n",
    "        if oov_fmm > oov_bmm:\n",
    "            score_fmm += 1\n",
    "        elif oov_fmm < oov_bmm:\n",
    "            score_bmm += 1\n",
    "        # 总词数越少越好\n",
    "        if tot_fmm > tot_bmm:\n",
    "            score_fmm += 1\n",
    "        elif tot_fmm < tot_bmm:\n",
    "            score_bmm += 1\n",
    "        # 单字词越少越好\n",
    "        if f_single_word > b_single_word:\n",
    "            score_fmm += 1\n",
    "        elif f_single_word < b_single_word:\n",
    "            score_bmm += 1\n",
    "\n",
    "        # 返回罚分少的那个\n",
    "        if score_fmm < score_bmm:\n",
    "            return fw\n",
    "        else:\n",
    "            return bw"
   ]
  },
  {
   "cell_type": "code",
   "execution_count": 52,
   "metadata": {},
   "outputs": [],
   "source": [
    "dic = ['研究','研究生','生命','命','的','起源']\n",
    "text = '研究生命的起源'"
   ]
  },
  {
   "cell_type": "code",
   "execution_count": 53,
   "metadata": {},
   "outputs": [
    {
     "name": "stdout",
     "output_type": "stream",
     "text": [
      "FMM:  ['研究生', '命', '的', '起源']\n",
      "BMM:  ['研究', '生命', '的', '起源']\n"
     ]
    },
    {
     "data": {
      "text/plain": [
       "['研究', '生命', '的', '起源']"
      ]
     },
     "execution_count": 53,
     "metadata": {},
     "output_type": "execute_result"
    }
   ],
   "source": [
    "bimm(text, dic)"
   ]
  },
  {
   "cell_type": "code",
   "execution_count": null,
   "metadata": {},
   "outputs": [],
   "source": []
  },
  {
   "cell_type": "code",
   "execution_count": null,
   "metadata": {},
   "outputs": [],
   "source": []
  }
 ],
 "metadata": {
  "kernelspec": {
   "display_name": "Python 3",
   "language": "python",
   "name": "python3"
  },
  "language_info": {
   "codemirror_mode": {
    "name": "ipython",
    "version": 3
   },
   "file_extension": ".py",
   "mimetype": "text/x-python",
   "name": "python",
   "nbconvert_exporter": "python",
   "pygments_lexer": "ipython3",
   "version": "3.6.5"
  }
 },
 "nbformat": 4,
 "nbformat_minor": 2
}
