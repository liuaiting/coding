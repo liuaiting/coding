{
 "cells": [
  {
   "cell_type": "markdown",
   "metadata": {},
   "source": [
    "# 堆排序"
   ]
  },
  {
   "cell_type": "markdown",
   "metadata": {},
   "source": [
    "堆排序（Heapsort）是指利用堆这种数据结构所设计的一种排序算法。堆积是一个近似完全二叉树的结构，并同时满足堆积的性质：即子结点的键值或索引总是小于（或者大于）它的父节点。\n",
    "\n",
    "7.1 算法描述\n",
    "\n",
    "将初始待排序关键字序列(R1,R2….Rn)构建成大顶堆，此堆为初始的无序区；\n",
    "\n",
    "将堆顶元素R[1]与最后一个元素R[n]交换，此时得到新的无序区(R1,R2,……Rn-1)和新的有序区(Rn),且满足R[1,2…n-1]<=R[n]；\n",
    "\n",
    "由于交换后新的堆顶R[1]可能违反堆的性质，因此需要对当前无序区(R1,R2,……Rn-1)调整为新堆，然后再次将R[1]与无序区最后一个元素交换，得到新的无\n",
    "序区(R1,R2….Rn-2)和新的有序区(Rn-1,Rn)。不断重复此过程直到有序区的元素个数为n-1，则整个排序过程完成。"
   ]
  },
  {
   "cell_type": "markdown",
   "metadata": {},
   "source": [
    "## 调整成最大堆，初始堆时，从下往上；交换堆顶与堆尾后，从上往下调整"
   ]
  },
  {
   "cell_type": "markdown",
   "metadata": {},
   "source": [
    "# 结点i的孩子结点为 2i+1 和 2i+2"
   ]
  },
  {
   "cell_type": "code",
   "execution_count": 60,
   "metadata": {},
   "outputs": [],
   "source": [
    "from __future__ import print_function\n",
    "class Solution(object):\n",
    "    def adjust(self, heap, start, end):  # 最大堆\n",
    "        j = 2 * start + 1\n",
    "        while j <= end:\n",
    "            if j < end and heap[j] < heap[j+1]:\n",
    "                j += 1\n",
    "            if heap[start] > heap[j]:\n",
    "                break\n",
    "            heap[start], heap[j] = heap[j], heap[start]  ## 每次都两两交换\n",
    "            start = j\n",
    "            j = j * 2 + 1 \n",
    "        \n",
    "    def heap_sort(self, array):\n",
    "        # 初始化最大堆\n",
    "        for i in range(len(array)//2-1, -1, -1):\n",
    "            self.adjust(array, i, len(array)-1)\n",
    "        print('初始化：', array)\n",
    "        # 不断调整堆\n",
    "        for i in range(len(array)-1, -1, -1):\n",
    "            array[0], array[i] = array[i], array[0]\n",
    "            self.adjust(array, 0, i-1)\n",
    "        print('排序后：', array)\n",
    "        return array"
   ]
  },
  {
   "cell_type": "code",
   "execution_count": 61,
   "metadata": {},
   "outputs": [
    {
     "name": "stdout",
     "output_type": "stream",
     "text": [
      "初始化： [8, 6, 7, 5, 2, 1, 3, 4]\n",
      "排序后： [1, 2, 3, 4, 5, 6, 7, 8]\n"
     ]
    },
    {
     "data": {
      "text/plain": [
       "[1, 2, 3, 4, 5, 6, 7, 8]"
      ]
     },
     "execution_count": 61,
     "metadata": {},
     "output_type": "execute_result"
    }
   ],
   "source": [
    "s = Solution()\n",
    "s.heap_sort([4,5,1,6,2,7,3,8])"
   ]
  },
  {
   "cell_type": "code",
   "execution_count": 62,
   "metadata": {},
   "outputs": [],
   "source": [
    "class Solution(object):\n",
    "    def adjust(self, heap, start, end):  # 最大堆\n",
    "        tmp = heap[start]\n",
    "        j = 2 * start + 1  # 孩子结点为2i+1 和 2i+2\n",
    "        while j <= end:\n",
    "            if j < end and heap[j] < heap[j+1]:\n",
    "                j += 1\n",
    "            if tmp > heap[j]:\n",
    "                break\n",
    "            heap[start] = heap[j]  ## 挖坑法，最后把heap[start]放到合适的坑里\n",
    "            start = j\n",
    "            j = 2 * j + 1\n",
    "        heap[start] = tmp\n",
    "                \n",
    "    def heap_sort(self, array):\n",
    "        # 初始化堆\n",
    "        for i in range(len(array)//2-1, -1, -1):\n",
    "            self.adjust(array, i, len(array)-1)\n",
    "        print('初始化：', array)\n",
    "        # 每次都把堆顶和最后一个未排序的交换位置，再调整堆\n",
    "        for i in range(len(array)-1, -1, -1):\n",
    "            array[0], array[i] = array[i], array[0]\n",
    "            self.adjust(array, 0, i-1)\n",
    "        print('排序后：', array)\n",
    "        return array"
   ]
  },
  {
   "cell_type": "code",
   "execution_count": 63,
   "metadata": {},
   "outputs": [
    {
     "name": "stdout",
     "output_type": "stream",
     "text": [
      "初始化： [8, 6, 7, 5, 2, 1, 3, 4]\n",
      "排序后： [1, 2, 3, 4, 5, 6, 7, 8]\n"
     ]
    },
    {
     "data": {
      "text/plain": [
       "[1, 2, 3, 4, 5, 6, 7, 8]"
      ]
     },
     "execution_count": 63,
     "metadata": {},
     "output_type": "execute_result"
    }
   ],
   "source": [
    "s = Solution()\n",
    "s.heap_sort([4,5,1,6,2,7,3,8])"
   ]
  },
  {
   "cell_type": "code",
   "execution_count": 67,
   "metadata": {},
   "outputs": [
    {
     "name": "stdout",
     "output_type": "stream",
     "text": [
      "初始化： [-8, -6, -7, -5, -2, -1, -3, -4]\n",
      "插入-10： [-10, -8, -7, -6, -2, -1, -3, -4, -5]\n",
      "pop最小值： [-8, -6, -7, -5, -2, -1, -3, -4]\n"
     ]
    },
    {
     "data": {
      "text/plain": [
       "[-8, -7, -6]"
      ]
     },
     "execution_count": 67,
     "metadata": {},
     "output_type": "execute_result"
    }
   ],
   "source": [
    "import heapq\n",
    "lst = [-4,-5,-1,-6,-2,-7,-3,-8]\n",
    "heapq.heapify(lst)\n",
    "print('初始化：', lst)\n",
    "heapq.heappush(lst, -10)\n",
    "print('插入-10：', lst)\n",
    "heapq.heappop(lst)\n",
    "print('pop最小值：', lst)\n",
    "heapq.nsmallest(3, lst)"
   ]
  },
  {
   "cell_type": "markdown",
   "metadata": {},
   "source": [
    "# 最小的k个数"
   ]
  },
  {
   "cell_type": "code",
   "execution_count": 52,
   "metadata": {},
   "outputs": [],
   "source": [
    "# -*- coding:utf-8 -*-\n",
    "class Solution:\n",
    "    def GetLeastNumbers_Solution(self, tinput, k):\n",
    "        # write code here\n",
    "        if not tinput or k <= 0 or len(tinput) < k:\n",
    "            return []\n",
    "        # 初始化一个大小为k的最大堆，保留最小的k个数\n",
    "        heap = tinput[:k]\n",
    "        for i in range(len(heap)/2-1, -1, -1):\n",
    "            self.adjust(heap, i, len(heap)-1)\n",
    "        print(heap)\n",
    "        # 遍历后面的每一个数，如果比堆顶元素小，需要重新调整堆\n",
    "        for i in range(k, len(tinput)):\n",
    "            if tinput[i] < heap[0]:\n",
    "                heap[0] = tinput[i]\n",
    "                self.adjust(heap, 0, len(heap)-1)\n",
    "        print(heap)\n",
    "        for i in range(k-1, -1, -1):\n",
    "            heap[0], heap[i] = heap[i], heap[0]\n",
    "            self.adjust(heap, 0, i-1)\n",
    "        return heap\n",
    "        \n",
    "    def adjust(self, heap, start, end):  ## 最大堆\n",
    "        j = start * 2 + 1\n",
    "        while j <= end:\n",
    "            if j < end and heap[j] < heap[j+1]:\n",
    "                j += 1\n",
    "            if heap[start] > heap[j]:\n",
    "                break\n",
    "            heap[j], heap[start] = heap[start], heap[j]\n",
    "            start = j\n",
    "            j = j * 2 + 1"
   ]
  },
  {
   "cell_type": "code",
   "execution_count": 53,
   "metadata": {},
   "outputs": [
    {
     "name": "stdout",
     "output_type": "stream",
     "text": [
      "[6, 5, 1, 4]\n",
      "[4, 3, 1, 2]\n"
     ]
    },
    {
     "data": {
      "text/plain": [
       "[1, 2, 3, 4]"
      ]
     },
     "execution_count": 53,
     "metadata": {},
     "output_type": "execute_result"
    }
   ],
   "source": [
    "lst = [4,5,1,6,2,7,3,8]\n",
    "k = 4\n",
    "s = Solution()\n",
    "s.GetLeastNumbers_Solution(lst, k)"
   ]
  },
  {
   "cell_type": "code",
   "execution_count": 5,
   "metadata": {},
   "outputs": [],
   "source": [
    "import heapq\n",
    "# -*- coding:utf-8 -*-\n",
    "class Solution:\n",
    "    def GetLeastNumbers_Solution(self, tinput, k):\n",
    "        # write code here\n",
    "        if not tinput or k <= 0 or len(tinput) < k:\n",
    "            return []\n",
    "        heap = [-x for x in tinput[:k]]\n",
    "        heapq.heapify(heap)\n",
    "        for i in range(k, len(tinput)):\n",
    "            if -tinput[i] > heap[0]:\n",
    "                heapq.heappop(heap)\n",
    "                heapq.heappush(heap, -tinput[i])\n",
    "        res = []\n",
    "        while heap:\n",
    "            res.append(-heapq.heappop(heap))\n",
    "        return res[::-1]"
   ]
  },
  {
   "cell_type": "code",
   "execution_count": 6,
   "metadata": {},
   "outputs": [
    {
     "data": {
      "text/plain": [
       "[1, 2, 3, 4]"
      ]
     },
     "execution_count": 6,
     "metadata": {},
     "output_type": "execute_result"
    }
   ],
   "source": [
    "lst = [4,5,1,6,2,7,3,8]\n",
    "k = 4\n",
    "s = Solution()\n",
    "s.GetLeastNumbers_Solution(lst, k)"
   ]
  },
  {
   "cell_type": "code",
   "execution_count": null,
   "metadata": {},
   "outputs": [],
   "source": []
  }
 ],
 "metadata": {
  "kernelspec": {
   "display_name": "Python 2",
   "language": "python",
   "name": "python2"
  },
  "language_info": {
   "codemirror_mode": {
    "name": "ipython",
    "version": 2
   },
   "file_extension": ".py",
   "mimetype": "text/x-python",
   "name": "python",
   "nbconvert_exporter": "python",
   "pygments_lexer": "ipython2",
   "version": "2.7.15"
  }
 },
 "nbformat": 4,
 "nbformat_minor": 2
}
