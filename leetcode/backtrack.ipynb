{
 "cells": [
  {
   "cell_type": "markdown",
   "metadata": {},
   "source": [
    "# 回溯"
   ]
  },
  {
   "cell_type": "markdown",
   "metadata": {},
   "source": [
    "https://leetcode.com/problems/permutations/discuss/18284/Backtrack-Summary%3A-General-Solution-for-10-Questions!!!!!!!!-Python-(Combination-Sum-Subsets-Permutation-Palindrome)"
   ]
  },
  {
   "cell_type": "markdown",
   "metadata": {},
   "source": [
    "## 39. Combination Sum\n",
    "https://leetcode.com/problems/combination-sum/"
   ]
  },
  {
   "cell_type": "code",
   "execution_count": 6,
   "metadata": {},
   "outputs": [],
   "source": [
    "class Solution(object):\n",
    "    def combinationSum(self, candidates, target):\n",
    "        def backtrack(tmp, start, end, target):\n",
    "            if target == 0:\n",
    "                ans.append(tmp[:])\n",
    "            elif target > 0:\n",
    "                for i in range(start, end):\n",
    "                    tmp.append(candidates[i])\n",
    "                    backtrack(tmp, i, end, target - candidates[i])\n",
    "                    tmp.pop()\n",
    "        ans = [] \n",
    "        candidates.sort(reverse= True)\n",
    "        backtrack([], 0, len(candidates), target)\n",
    "        return ans"
   ]
  },
  {
   "cell_type": "markdown",
   "metadata": {},
   "source": [
    "## 40. Combination Sum II\n",
    "https://leetcode.com/problems/combination-sum-ii/"
   ]
  },
  {
   "cell_type": "code",
   "execution_count": 7,
   "metadata": {},
   "outputs": [],
   "source": [
    "class Solution(object):\n",
    "    def combinationSum2(self, candidates, target):\n",
    "        def backtrack(start, end, tmp, target):\n",
    "            if target == 0:\n",
    "                ans.append(tmp[:])\n",
    "            elif target > 0:\n",
    "                for i in range(start, end):\n",
    "                    if i > start and candidates[i] == candidates[i-1]:\n",
    "                        continue\n",
    "                    tmp.append(candidates[i])\n",
    "                    backtrack(i+1, end, tmp, target - candidates[i])\n",
    "                    tmp.pop()\n",
    "        ans = []\n",
    "        candidates.sort(reverse= True)\n",
    "        backtrack(0, len(candidates), [], target)\n",
    "        return ans"
   ]
  },
  {
   "cell_type": "markdown",
   "metadata": {},
   "source": [
    "## 78. Subsets\n",
    "https://leetcode.com/problems/subsets/"
   ]
  },
  {
   "cell_type": "code",
   "execution_count": 8,
   "metadata": {},
   "outputs": [],
   "source": [
    "class Solution(object):\n",
    "    def subsets(self, nums):\n",
    "        def backtrack(start, end, tmp):\n",
    "            ans.append(tmp[:])\n",
    "            for i in range(start, end):\n",
    "                tmp.append(nums[i])\n",
    "                backtrack(i+1, end, tmp)\n",
    "                tmp.pop()\n",
    "        ans = []\n",
    "        backtrack(0, len(nums), [])\n",
    "        return ans"
   ]
  },
  {
   "cell_type": "markdown",
   "metadata": {},
   "source": [
    "## 90. Subsets II\n",
    "https://leetcode.com/problems/subsets-ii/"
   ]
  },
  {
   "cell_type": "code",
   "execution_count": 9,
   "metadata": {},
   "outputs": [],
   "source": [
    "class Solution(object):\n",
    "    def subsetsWithDup(self, nums):\n",
    "        def backtrack(start, end, tmp):\n",
    "            ans.append(tmp[:])\n",
    "            for i in range(start, end):\n",
    "                if i > start and nums[i] == nums[i-1]:\n",
    "                    continue\n",
    "                tmp.append(nums[i])\n",
    "                backtrack(i+1, end, tmp)\n",
    "                tmp.pop()\n",
    "        ans = []\n",
    "        nums.sort()\n",
    "        backtrack(0, len(nums), [])\n",
    "        return ans"
   ]
  },
  {
   "cell_type": "markdown",
   "metadata": {},
   "source": [
    "## 46. Permutations\n",
    "https://leetcode.com/problems/permutations/"
   ]
  },
  {
   "cell_type": "code",
   "execution_count": 10,
   "metadata": {},
   "outputs": [],
   "source": [
    "class Solution(object):\n",
    "    def permute(self, nums):\n",
    "        def backtrack(start, end):\n",
    "            if start == end:\n",
    "                ans.append(nums[:])\n",
    "            for i in range(start, end):\n",
    "                nums[start], nums[i] = nums[i], nums[start]\n",
    "                backtrack(start+1, end)\n",
    "                nums[start], nums[i] = nums[i], nums[start]\n",
    "                \n",
    "        ans = []\n",
    "        backtrack(0, len(nums))\n",
    "        return ans"
   ]
  },
  {
   "cell_type": "markdown",
   "metadata": {},
   "source": [
    "## 47. Permutations II\n",
    "https://leetcode.com/problems/permutations-ii/"
   ]
  },
  {
   "cell_type": "code",
   "execution_count": 11,
   "metadata": {},
   "outputs": [],
   "source": [
    "class Solution(object):\n",
    "    def permuteUnique(self, nums):\n",
    "        def backtrack(tmp, size):\n",
    "            if len(tmp) == size:\n",
    "                ans.append(tmp[:])\n",
    "            else:\n",
    "                for i in range(size):\n",
    "                    if visited[i] or (i > 0 and nums[i-1] == nums[i] and not visited[i-1]):\n",
    "                        continue\n",
    "                    visited[i] = True\n",
    "                    tmp.append(nums[i])\n",
    "                    backtrack(tmp, size)\n",
    "                    tmp.pop()\n",
    "                    visited[i] = False\n",
    "        ans = []\n",
    "        visited = [False] * len(nums)\n",
    "        nums.sort()\n",
    "        backtrack([], len(nums))\n",
    "        return ans"
   ]
  },
  {
   "cell_type": "markdown",
   "metadata": {},
   "source": [
    "## 60. Permutation Sequence\n",
    "https://leetcode.com/problems/permutation-sequence/"
   ]
  },
  {
   "cell_type": "code",
   "execution_count": 12,
   "metadata": {},
   "outputs": [],
   "source": [
    "class Solution(object):\n",
    "    def getPermutation(self, n, k):\n",
    "        nums = [str(i) for i in range(1, n+1)]\n",
    "        fact = [1] * n\n",
    "        for i in range(1,n):\n",
    "            fact[i] = i*fact[i-1]\n",
    "        k -= 1\n",
    "        ans = []\n",
    "        for i in range(n, 0, -1):\n",
    "            id = k / fact[i-1]\n",
    "            k %= fact[i-1]\n",
    "            ans.append(nums[id])\n",
    "            nums.pop(id)\n",
    "        return ''.join(ans)"
   ]
  },
  {
   "cell_type": "markdown",
   "metadata": {},
   "source": [
    "## 131. Palindrome Partitioning\n",
    "https://leetcode.com/problems/palindrome-partitioning/\n"
   ]
  },
  {
   "cell_type": "code",
   "execution_count": 13,
   "metadata": {},
   "outputs": [],
   "source": [
    "class Solution(object):\n",
    "    def partition(self, s):\n",
    "        def backtrack(start, end, tmp):\n",
    "            if start == end:\n",
    "                ans.append(tmp[:])\n",
    "            for i in range(start, end):\n",
    "                cur = s[start:i+1]\n",
    "                if cur == cur[::-1]:\n",
    "                    tmp.append(cur)\n",
    "                    backtrack(i+1, end, tmp)\n",
    "                    tmp.pop()\n",
    "        ans = []\n",
    "        backtrack(0, len(s), [])\n",
    "        return ans"
   ]
  },
  {
   "cell_type": "markdown",
   "metadata": {},
   "source": [
    "## 267. Palindrome Permutation II\n",
    "https://leetcode.com/problems/palindrome-permutation-ii/\n",
    "Related to this two:\n",
    "31. Next Permutation: https://leetcode.com/problems/next-permutation/\n",
    "266. Palindrome Permutation: https://leetcode.com/problems/palindrome-permutation/"
   ]
  },
  {
   "cell_type": "code",
   "execution_count": 14,
   "metadata": {},
   "outputs": [],
   "source": [
    "class Solution(object):\n",
    "    def generatePalindromes(self, s):\n",
    "        kv = collections.Counter(s)\n",
    "        mid = [k for k, v in kv.iteritems() if v%2]\n",
    "        if len(mid) > 1:\n",
    "            return []\n",
    "        mid = '' if mid == [] else mid[0]\n",
    "        half = ''.join([k * (v/2) for k, v in kv.iteritems()])\n",
    "        half = [c for c in half]\n",
    "        \n",
    "        def backtrack(end, tmp):\n",
    "            if len(tmp) == end:\n",
    "                cur = ''.join(tmp)\n",
    "                ans.append(cur + mid + cur[::-1])\n",
    "            else:\n",
    "                for i in range(end):\n",
    "                    if visited[i] or (i>0 and half[i] == half[i-1] and not visited[i-1]):\n",
    "                        continue\n",
    "                    visited[i] = True\n",
    "                    tmp.append(half[i])\n",
    "                    backtrack(end, tmp)\n",
    "                    visited[i] = False\n",
    "                    tmp.pop()\n",
    "                    \n",
    "        ans = []\n",
    "        visited = [False] * len(half)\n",
    "        backtrack(len(half), [])\n",
    "        return ans"
   ]
  },
  {
   "cell_type": "markdown",
   "metadata": {},
   "source": [
    "## 22. Generate Parentheses\n",
    "https://leetcode.com/problems/generate-parentheses/"
   ]
  },
  {
   "cell_type": "code",
   "execution_count": 3,
   "metadata": {},
   "outputs": [],
   "source": [
    "class Solution(object):\n",
    "    def generateParenthesis(self, n):\n",
    "        \"\"\"\n",
    "        :type n: int\n",
    "        :rtype: List[str]\n",
    "        \"\"\"\n",
    "        res = []\n",
    "        def backtrack(S='', left=0, right=0):\n",
    "            print(S)\n",
    "            if len(S) == 2 * n:\n",
    "                res.append(S)\n",
    "                return\n",
    "            if left < n:\n",
    "                backtrack(S+\"(\", left+1, right)\n",
    "            if right < left:\n",
    "                backtrack(S+\")\", left, right+1)\n",
    "        \n",
    "        backtrack()\n",
    "        return res"
   ]
  },
  {
   "cell_type": "code",
   "execution_count": 4,
   "metadata": {},
   "outputs": [
    {
     "name": "stdout",
     "output_type": "stream",
     "text": [
      "\n",
      "(\n",
      "((\n",
      "(((\n",
      "((()\n",
      "((())\n",
      "((()))\n",
      "(()\n",
      "(()(\n",
      "(()()\n",
      "(()())\n",
      "(())\n",
      "(())(\n",
      "(())()\n",
      "()\n",
      "()(\n",
      "()((\n",
      "()(()\n",
      "()(())\n",
      "()()\n",
      "()()(\n",
      "()()()\n"
     ]
    },
    {
     "data": {
      "text/plain": [
       "['((()))', '(()())', '(())()', '()(())', '()()()']"
      ]
     },
     "execution_count": 4,
     "metadata": {},
     "output_type": "execute_result"
    }
   ],
   "source": [
    "s = Solution()\n",
    "s.generateParenthesis(3)"
   ]
  },
  {
   "cell_type": "code",
   "execution_count": null,
   "metadata": {},
   "outputs": [],
   "source": []
  }
 ],
 "metadata": {
  "kernelspec": {
   "display_name": "Python 2",
   "language": "python",
   "name": "python2"
  },
  "language_info": {
   "codemirror_mode": {
    "name": "ipython",
    "version": 2
   },
   "file_extension": ".py",
   "mimetype": "text/x-python",
   "name": "python",
   "nbconvert_exporter": "python",
   "pygments_lexer": "ipython2",
   "version": "2.7.15"
  }
 },
 "nbformat": 4,
 "nbformat_minor": 2
}
