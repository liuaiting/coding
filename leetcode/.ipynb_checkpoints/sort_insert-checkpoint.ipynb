{
 "cells": [
  {
   "cell_type": "markdown",
   "metadata": {},
   "source": [
    "# 插入排序"
   ]
  },
  {
   "cell_type": "markdown",
   "metadata": {},
   "source": [
    "插入排序（Insertion-Sort）的算法描述是一种简单直观的排序算法。它的工作原理是通过构建有序序列，对于未排序数据，在已排序序列中从后向前扫描，找到相应位置并插入。\n",
    "\n",
    "3.1 算法描述\n",
    "\n",
    "一般来说，插入排序都采用in-place在数组上实现。具体算法描述如下：\n",
    "\n",
    "从第一个元素开始，该元素可以认为已经被排序；\n",
    "\n",
    "取出下一个元素，在已经排序的元素序列中从后向前扫描；\n",
    "\n",
    "如果该元素（已排序）大于新元素，将该元素移到下一位置；\n",
    "\n",
    "重复步骤3，直到找到已排序的元素小于或者等于新元素的位置；\n",
    "\n",
    "将新元素插入到该位置后；\n",
    "\n",
    "重复步骤2~5。\n",
    "\n",
    "3.4 算法分析\n",
    "\n",
    "插入排序在实现上，通常采用in-place排序（即只需用到O(1)的额外空间的排序），因而在从后向前扫描过程中，需要反复把已排序元素逐步向后挪位，为最新元素提供插入空间。"
   ]
  },
  {
   "cell_type": "code",
   "execution_count": 1,
   "metadata": {},
   "outputs": [],
   "source": [
    "def insertSort(nums):\n",
    "    if not nums:\n",
    "        return nums\n",
    "    for i in range(1, len(nums)):\n",
    "        cur = nums[i]\n",
    "        j = i-1\n",
    "        while j >= 0 and nums[j] > cur:\n",
    "            nums[j+1] = nums[j]\n",
    "            j -= 1\n",
    "        nums[j+1] = cur\n",
    "    return nums"
   ]
  },
  {
   "cell_type": "code",
   "execution_count": 2,
   "metadata": {},
   "outputs": [
    {
     "data": {
      "text/plain": [
       "[1, 2, 3, 4, 5, 6, 9, 10]"
      ]
     },
     "execution_count": 2,
     "metadata": {},
     "output_type": "execute_result"
    }
   ],
   "source": [
    "nums = [10,1,4,6,5,9,3,2]\n",
    "insertSort(nums)"
   ]
  },
  {
   "cell_type": "code",
   "execution_count": 3,
   "metadata": {},
   "outputs": [],
   "source": [
    "def insertSort(nums):\n",
    "    if not nums:\n",
    "        return nums\n",
    "    for i in range(1, len(nums)):\n",
    "        cur = nums[i]\n",
    "        j = i-1\n",
    "        for j in range(i-1, -2, -1):  ##注意这里j的边界条件应该是取到-1，用上面那种方法更好\n",
    "            if nums[j] > cur:\n",
    "                nums[j+1] = nums[j]\n",
    "            else:\n",
    "                break\n",
    "        nums[j+1] = cur\n",
    "    return nums"
   ]
  },
  {
   "cell_type": "code",
   "execution_count": 4,
   "metadata": {},
   "outputs": [
    {
     "data": {
      "text/plain": [
       "[1, 2, 3, 4, 5, 6, 9, 10]"
      ]
     },
     "execution_count": 4,
     "metadata": {},
     "output_type": "execute_result"
    }
   ],
   "source": [
    "nums = [10,1,4,6,5,9,3,2]\n",
    "insertSort(nums)"
   ]
  },
  {
   "cell_type": "code",
   "execution_count": 5,
   "metadata": {},
   "outputs": [],
   "source": [
    "def insertSort(nums):\n",
    "    if not nums:\n",
    "        return nums\n",
    "    nums.insert(0,0)  ## 可以添加一个哨兵\n",
    "    for i in range(2, len(nums)):\n",
    "        if nums[i] < nums[i-1]:\n",
    "            nums[0], nums[i] = nums[i], nums[0]\n",
    "            for j in range(i-1, -1, -1):\n",
    "                if nums[j] > nums[0]:\n",
    "                    nums[j+1] = nums[j]\n",
    "                else:\n",
    "                    nums[j+1] = nums[0]\n",
    "                    break\n",
    "    return nums[1:]"
   ]
  },
  {
   "cell_type": "code",
   "execution_count": 6,
   "metadata": {},
   "outputs": [
    {
     "data": {
      "text/plain": [
       "[1, 2, 3, 4, 5, 6, 9, 10]"
      ]
     },
     "execution_count": 6,
     "metadata": {},
     "output_type": "execute_result"
    }
   ],
   "source": [
    "nums = [10,1,4,6,5,9,3,2]\n",
    "insertSort(nums)"
   ]
  },
  {
   "cell_type": "code",
   "execution_count": null,
   "metadata": {},
   "outputs": [],
   "source": []
  }
 ],
 "metadata": {
  "kernelspec": {
   "display_name": "Python 2",
   "language": "python",
   "name": "python2"
  },
  "language_info": {
   "codemirror_mode": {
    "name": "ipython",
    "version": 2
   },
   "file_extension": ".py",
   "mimetype": "text/x-python",
   "name": "python",
   "nbconvert_exporter": "python",
   "pygments_lexer": "ipython2",
   "version": "2.7.15"
  }
 },
 "nbformat": 4,
 "nbformat_minor": 2
}
