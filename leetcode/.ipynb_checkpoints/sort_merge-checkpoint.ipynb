{
 "cells": [
  {
   "cell_type": "markdown",
   "metadata": {},
   "source": [
    "# 归并排序"
   ]
  },
  {
   "cell_type": "markdown",
   "metadata": {},
   "source": [
    "## 数组的归并排序\n",
    "\n",
    "首先归并排序使用了二分法，归根到底的思想还是分而治之。拿到一个长数组，将其不停的分为左边和右边两份，然后以此递归分下去。然后再将她们按照两个有序数组的样子合并起来。\n",
    "\n",
    "归并排序的第一步，将数组按照middle进行递归拆分，最后分到最细之后再将其使用对两个有序数组进行排序的方法对其进行排序。\n",
    "\n",
    "两个有序数组排序的方法则非常简单，同时对两个数组的第一个位置进行比大小，将小的放入一个空数组，然后被放入空数组的那个位置的指针往后 移一个，然后继续和另外一个数组的上一个位置进行比较，以此类推。到最后任何一个数组先出栈完，就将另外i一个数组里的所有元素追加到新数组后面。\n",
    "\n",
    "由于递归拆分的时间复杂度是logN 然而，进行两个有序数组排序的方法复杂度是N该算法的时间复杂度是N*logN 所以是NlogN。"
   ]
  },
  {
   "cell_type": "code",
   "execution_count": 1,
   "metadata": {},
   "outputs": [],
   "source": [
    "import copy\n",
    "def mergeSortList(lst):\n",
    "    if not lst:\n",
    "        return lst\n",
    "    tmp = copy.deepcopy(lst)\n",
    "    mergesort(lst, 0, len(lst)-1, tmp)\n",
    "    return lst\n",
    "    \n",
    "def mergesort(lst, start, end, tmp):\n",
    "    if start < end:\n",
    "        mid = (start + end) / 2\n",
    "        mergesort(lst, start, mid, tmp)\n",
    "        mergesort(lst, mid+1, end, tmp)\n",
    "        merge(lst, start, mid, end, tmp)\n",
    "        \n",
    "def merge(lst, start, mid, end, tmp):\n",
    "    i, j = start, mid+1\n",
    "    k = start ### 注意起始位置\n",
    "    while i <= mid and j <= end:\n",
    "        if lst[i] <= lst[j]:\n",
    "            tmp[k] = lst[i]\n",
    "            i += 1\n",
    "        else:\n",
    "            tmp[k] = lst[j]\n",
    "            j += 1\n",
    "        k += 1\n",
    "    if i <= mid:\n",
    "        tmp[k:end+1] = lst[i:mid+1]\n",
    "    if j <= end:\n",
    "        tmp[k:end+1] = lst[j:end+1]   \n",
    "    lst[start:end+1] = tmp[start:end+1]\n"
   ]
  },
  {
   "cell_type": "code",
   "execution_count": 2,
   "metadata": {},
   "outputs": [
    {
     "data": {
      "text/plain": [
       "[1, 2, 3, 4, 5, 6, 9]"
      ]
     },
     "execution_count": 2,
     "metadata": {},
     "output_type": "execute_result"
    }
   ],
   "source": [
    "lst = [1,4,6,5,9,3,2]\n",
    "mergeSortList(lst)"
   ]
  },
  {
   "cell_type": "code",
   "execution_count": 3,
   "metadata": {},
   "outputs": [
    {
     "data": {
      "text/plain": [
       "[1, 2, 4, 5, 6, 8, 9, 10, 20]"
      ]
     },
     "execution_count": 3,
     "metadata": {},
     "output_type": "execute_result"
    }
   ],
   "source": [
    "l = [8,9,10,4,5,6,20,1,2]\n",
    "mergeSortList(l)"
   ]
  },
  {
   "cell_type": "code",
   "execution_count": 4,
   "metadata": {},
   "outputs": [],
   "source": [
    "def mergeSortList(lst):\n",
    "    if len(lst) <= 1:\n",
    "        return lst\n",
    "    \n",
    "    mid = len(lst) / 2\n",
    "    left = mergeSortList(lst[:mid])\n",
    "    right = mergeSortList(lst[mid:])\n",
    "    return merge(left, right)\n",
    "        \n",
    "def merge(lst1, lst2):\n",
    "    tmp = []\n",
    "    i, j = 0, 0\n",
    "    while i < len(lst1) and j < len(lst2):\n",
    "        if lst1[i] < lst2[j]:\n",
    "            tmp.append(lst1[i])\n",
    "            i += 1\n",
    "        else:\n",
    "            tmp.append(lst2[j])\n",
    "            j += 1\n",
    "    if i < len(lst1):\n",
    "        tmp.extend(lst1[i:])\n",
    "    if j < len(lst2):\n",
    "        tmp.extend(lst2[j:])\n",
    "    return tmp"
   ]
  },
  {
   "cell_type": "code",
   "execution_count": 5,
   "metadata": {},
   "outputs": [
    {
     "data": {
      "text/plain": [
       "[1, 2, 3, 4, 5, 6, 9]"
      ]
     },
     "execution_count": 5,
     "metadata": {},
     "output_type": "execute_result"
    }
   ],
   "source": [
    "lst = [1,4,6,5,9,3,2]\n",
    "mergeSortList(lst)"
   ]
  },
  {
   "cell_type": "markdown",
   "metadata": {},
   "source": [
    "## 链表的归并排序"
   ]
  },
  {
   "cell_type": "markdown",
   "metadata": {},
   "source": [
    "利用归并的思想，递归地将当前链表分为两段，然后merge，分两段的方法是使用 fast-slow 法，用两个指针，一个每次走两步，一个走一步，直到快的走到了末尾，然后慢的所在位置就是中间位置，这样就分成了两段。merge时，把两段头部节点值比较，用一个 p 指向较小的，且记录第一个节点，然后 两段的头一步一步向后走，p也一直向后走，总是指向较小节点，直至其中一个头为NULL，处理剩下的元素。最后返回记录的头即可。\n",
    "\n",
    "主要考察3个知识点:\n",
    "\n",
    "知识点1：归并排序的整体思想\n",
    "\n",
    "知识点2：找到一个链表的中间节点的方法\n",
    "\n",
    "知识点3：合并两个已排好序的链表为一个新的有序链表\n",
    "\n",
    "归并排序的基本思想是：找到链表的middle节点，然后递归对前半部分和后半部分分别进行归并排序，最后对两个已排好序的链表进行Merge。"
   ]
  },
  {
   "cell_type": "code",
   "execution_count": 6,
   "metadata": {},
   "outputs": [],
   "source": [
    "class ListNode(object):\n",
    "    def __init__(self, x):\n",
    "        self.val = x\n",
    "        self.next = None\n",
    "        \n",
    "def mergeSortLinkedList(head):\n",
    "    if not head or not head.next:\n",
    "        return head\n",
    "    return mergeSort(head)\n",
    "\n",
    "def mergeSort(head):\n",
    "    if not head.next:\n",
    "        return head\n",
    "    fast, slow = head, head\n",
    "    pre = None\n",
    "    while fast and fast.next:\n",
    "        fast = fast.next.next\n",
    "        pre = slow\n",
    "        slow = slow.next    \n",
    "    pre.next = None\n",
    "    left = mergeSort(head)\n",
    "    right = mergeSort(slow)\n",
    "    return merge(left, right)\n",
    "\n",
    "def merge(head1, head2):\n",
    "    dummy = ListNode(None)\n",
    "    tmp = dummy\n",
    "    cur1, cur2 = head1, head2\n",
    "    while cur1 and cur2:\n",
    "        if cur1.val < cur2.val:\n",
    "            tmp.next = cur1\n",
    "            cur1 = cur1.next\n",
    "            tmp = tmp.next    \n",
    "        else:\n",
    "            tmp.next = cur2\n",
    "            tmp = tmp.next\n",
    "            cur2 = cur2.next\n",
    "    if cur1:\n",
    "        tmp.next = cur1\n",
    "    if cur2:\n",
    "        tmp.next = cur2\n",
    "    return dummy.next"
   ]
  },
  {
   "cell_type": "code",
   "execution_count": 7,
   "metadata": {},
   "outputs": [
    {
     "name": "stdout",
     "output_type": "stream",
     "text": [
      "1\n",
      "2\n",
      "3\n",
      "4\n",
      "5\n",
      "6\n",
      "9\n"
     ]
    }
   ],
   "source": [
    "n1,n2,n3,n4,n5,n6,n7 = ListNode(1), ListNode(4), ListNode(6), ListNode(5), ListNode(9), ListNode(3), ListNode(2) \n",
    "n1.next = n2\n",
    "n2.next = n3\n",
    "n3.next = n4\n",
    "n4.next = n5\n",
    "n5.next = n6\n",
    "n6.next = n7\n",
    "h = mergeSortLinkedList(n1)\n",
    "while h:\n",
    "    print(h.val)\n",
    "    h = h.next"
   ]
  },
  {
   "cell_type": "markdown",
   "metadata": {},
   "source": [
    "归并排序是建立在归并操作上的一种有效的排序算法。该算法是采用分治法（Divide and Conquer）的一个非常典型的应用。将已有序的子序列合并，得到完全有序的序列；即先使每个子序列有序，再使子序列段间有序。若将两个有序表合并成一个有序表，称为2-路归并。 \n",
    "\n",
    "5.1 算法描述\n",
    "\n",
    "把长度为n的输入序列分成两个长度为n/2的子序列；\n",
    "\n",
    "对这两个子序列分别采用归并排序；\n",
    "\n",
    "将两个排序好的子序列合并成一个最终的排序序列。\n",
    "\n",
    "5.4 算法分析\n",
    "\n",
    "归并排序是一种稳定的排序方法。和选择排序一样，归并排序的性能不受输入数据的影响，但表现比选择排序好的多，因为始终都是O(nlogn）的时间复杂度。代价是需要额外的内存空间。"
   ]
  },
  {
   "cell_type": "markdown",
   "metadata": {},
   "source": [
    "# 数组中的逆序对"
   ]
  },
  {
   "cell_type": "code",
   "execution_count": 8,
   "metadata": {},
   "outputs": [],
   "source": [
    "# -*- coding:utf-8 -*-\n",
    "import copy\n",
    "class Solution:\n",
    "    def InversePairs(self, data):\n",
    "        # write code here\n",
    "        if not data:\n",
    "            return 0\n",
    "        tmp = copy.deepcopy(data)\n",
    "        count = self.merge(data, tmp, 0, len(data) - 1)\n",
    "        print(data)\n",
    "        return count % 1000000007\n",
    "        \n",
    "    def merge(self, data, tmp, start, end):\n",
    "        if start == end:\n",
    "            return 0\n",
    "        count = 0\n",
    "        mid = (start + end) // 2\n",
    "        count += self.merge(data, tmp, start, mid)\n",
    "        count += self.merge(data, tmp, mid + 1, end)\n",
    "        i, j = mid, end\n",
    "        k = end\n",
    "        while i >= start and j >= mid+1:\n",
    "            if data[i] > data[j]:\n",
    "                count += j - mid\n",
    "                tmp[k] = data[i]\n",
    "                i -= 1\n",
    "            else:\n",
    "                tmp[k] = data[j]\n",
    "                j -= 1\n",
    "            k -= 1\n",
    "        while i >= start:\n",
    "            tmp[k] = data[i]\n",
    "            i -= 1\n",
    "            k -= 1\n",
    "        while j >= mid+1:\n",
    "            tmp[k] = data[j]\n",
    "            j -= 1\n",
    "            k -= 1\n",
    "        data[start:end+1] = tmp[start:end+1]\n",
    "        return count"
   ]
  },
  {
   "cell_type": "code",
   "execution_count": 9,
   "metadata": {},
   "outputs": [
    {
     "name": "stdout",
     "output_type": "stream",
     "text": [
      "[0, 1, 2, 3, 4, 5, 6, 7]\n"
     ]
    },
    {
     "data": {
      "text/plain": [
       "7"
      ]
     },
     "execution_count": 9,
     "metadata": {},
     "output_type": "execute_result"
    }
   ],
   "source": [
    "s = Solution()\n",
    "data = [1,2,3,4,5,6,7,0]\n",
    "s.InversePairs(data)"
   ]
  },
  {
   "cell_type": "code",
   "execution_count": null,
   "metadata": {},
   "outputs": [],
   "source": []
  }
 ],
 "metadata": {
  "kernelspec": {
   "display_name": "Python 2",
   "language": "python",
   "name": "python2"
  },
  "language_info": {
   "codemirror_mode": {
    "name": "ipython",
    "version": 2
   },
   "file_extension": ".py",
   "mimetype": "text/x-python",
   "name": "python",
   "nbconvert_exporter": "python",
   "pygments_lexer": "ipython2",
   "version": "2.7.15"
  }
 },
 "nbformat": 4,
 "nbformat_minor": 2
}
