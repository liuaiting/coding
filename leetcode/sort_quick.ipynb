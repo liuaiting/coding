{
 "cells": [
  {
   "cell_type": "markdown",
   "metadata": {},
   "source": [
    "# 快速排序\n",
    "\n",
    "快速排序的基本思想：通过一趟排序将待排记录分隔成独立的两部分，其中一部分记录的关键字均比另一部分的关键字小，则可分别对这两部分记录继续进行排序，以达到整个序列有序。\n",
    "\n",
    "6.1 算法描述\n",
    "\n",
    "快速排序使用分治法来把一个串（list）分为两个子串（sub-lists）。具体算法描述如下：\n",
    "\n",
    "从数列中挑出一个元素，称为 “基准”（pivot）；\n",
    "\n",
    "重新排序数列，所有元素比基准值小的摆放在基准前面，所有元素比基准值大的摆在基准的后面（相同的数可以到任一边）。在这个分区退出之后，该基准就处\n",
    "于数列的中间位置。这个称为分区（partition）操作；\n",
    "\n",
    "递归地（recursive）把小于基准值元素的子数列和大于基准值元素的子数列排序。"
   ]
  },
  {
   "cell_type": "markdown",
   "metadata": {},
   "source": [
    "## 解法一："
   ]
  },
  {
   "cell_type": "code",
   "execution_count": 2,
   "metadata": {},
   "outputs": [],
   "source": [
    "def quick_sort1(array, left, right):\n",
    "    if left < right:\n",
    "        low = left\n",
    "        high = right\n",
    "        pivot = array[left]\n",
    "        while left < right:\n",
    "            while left < right and array[right] > pivot:\n",
    "                right -= 1\n",
    "            array[left] = array[right]\n",
    "            while left < right and array[left] < pivot:\n",
    "                left += 1\n",
    "            array[right] = array[left]\n",
    "        array[right] = pivot\n",
    "        quick_sort1(array, low, left - 1)\n",
    "        quick_sort1(array, left + 1, high)\n",
    "    return array  "
   ]
  },
  {
   "cell_type": "code",
   "execution_count": 3,
   "metadata": {},
   "outputs": [
    {
     "data": {
      "text/plain": [
       "[1, 2, 3, 4, 5, 6]"
      ]
     },
     "execution_count": 3,
     "metadata": {},
     "output_type": "execute_result"
    }
   ],
   "source": [
    "array1 = [3, 2, 1, 5, 6, 4]\n",
    "quick_sort1(array1, 0, len(array1) - 1)"
   ]
  },
  {
   "cell_type": "markdown",
   "metadata": {},
   "source": [
    "## 解法二：前后指针法"
   ]
  },
  {
   "cell_type": "code",
   "execution_count": 1,
   "metadata": {},
   "outputs": [],
   "source": [
    "def partition2(array, left, right):\n",
    "    # 基准值取谁都行，重要的是要记住比pivot应该在的位置，也就是现在有多少个比pivot小的值\n",
    "    pivot = array[right]  # 取基准值为最后一个值\n",
    "    pos = left - 1\n",
    "    for i in range(left, right):\n",
    "        if array[i] < pivot:\n",
    "            pos += 1\n",
    "            array[i], array[pos] = array[pos], array[i]\n",
    "    array[pos+1], array[right] = array[right], array[pos+1]\n",
    "    return pos + 1"
   ]
  },
  {
   "cell_type": "code",
   "execution_count": 9,
   "metadata": {},
   "outputs": [],
   "source": [
    "def partition2_2(array, left, right):\n",
    "    # 基准值取谁都行，重要的是要记住比pivot应该在的位置，也就是现在有多少个比pivot小的值\n",
    "    pivot = array[left]  # 取基准值为最后一个值\n",
    "    pos = left\n",
    "    for i in range(left+1, right+1):\n",
    "        if array[i] < pivot:\n",
    "            pos += 1\n",
    "            array[i], array[pos] = array[pos], array[i]\n",
    "    array[pos], array[left] = array[left], array[pos]\n",
    "    return pos"
   ]
  },
  {
   "cell_type": "code",
   "execution_count": 10,
   "metadata": {},
   "outputs": [],
   "source": [
    "def quick_sort2(array, left, right):\n",
    "    if left < right:\n",
    "        pivot_index = partition2_2(array, left, right)\n",
    "        quick_sort2(array, left, pivot_index - 1)\n",
    "        quick_sort2(array, pivot_index + 1, right)\n",
    "    return array"
   ]
  },
  {
   "cell_type": "code",
   "execution_count": 11,
   "metadata": {},
   "outputs": [
    {
     "data": {
      "text/plain": [
       "[1, 2, 3, 4, 5, 6]"
      ]
     },
     "execution_count": 11,
     "metadata": {},
     "output_type": "execute_result"
    }
   ],
   "source": [
    "array2 = [3, 2, 1, 5, 6, 4]\n",
    "quick_sort2(array2, 0, len(array2) - 1)"
   ]
  },
  {
   "cell_type": "markdown",
   "metadata": {},
   "source": [
    "## 解法三：左右指针法，这种方法比较好理解，但是如果是链表就不能用这种方法了"
   ]
  },
  {
   "cell_type": "code",
   "execution_count": 1,
   "metadata": {},
   "outputs": [],
   "source": [
    "def partition3(array, left, right):\n",
    "    pivot = array[left]\n",
    "    while left < right:\n",
    "        while left < right and array[right] >= pivot:\n",
    "            right -= 1\n",
    "        array[left] = array[right]\n",
    "        while left < right and array[left] <= pivot:\n",
    "            left += 1\n",
    "        array[right] = array[left]\n",
    "    array[left] = pivot\n",
    "    return left\n",
    "\n",
    "def quick_sort3(array, left, right):\n",
    "    if left < right:\n",
    "        pivot_index = partition3(array, left, right)\n",
    "        quick_sort3(array, left, pivot_index - 1)\n",
    "        quick_sort3(array, pivot_index + 1, right)\n",
    "    return array"
   ]
  },
  {
   "cell_type": "code",
   "execution_count": 2,
   "metadata": {},
   "outputs": [
    {
     "data": {
      "text/plain": [
       "[1, 2, 3, 4, 5, 6]"
      ]
     },
     "execution_count": 2,
     "metadata": {},
     "output_type": "execute_result"
    }
   ],
   "source": [
    "array3 = [3, 2, 1, 5, 6, 4]\n",
    "quick_sort3(array3, 0, len(array3) - 1)"
   ]
  },
  {
   "cell_type": "markdown",
   "metadata": {},
   "source": [
    "# 链表的快速排序"
   ]
  },
  {
   "cell_type": "code",
   "execution_count": 13,
   "metadata": {},
   "outputs": [],
   "source": [
    "class ListNode(object):\n",
    "    def __init__(self, x):\n",
    "        self.val = x\n",
    "        self.next = None\n",
    "        \n",
    "def quickSortLinkedList(head):\n",
    "    if not head or not head.next:\n",
    "        return head\n",
    "    quicksort(head, None)\n",
    "    return head\n",
    "\n",
    "def quicksort(head, tail):\n",
    "    if head != tail and head.next != tail:\n",
    "        mid = partition(head, tail)\n",
    "        quicksort(head, mid)\n",
    "        quicksort(mid.next, tail)\n",
    "    \n",
    "def partition(low, high):\n",
    "    pivot = low.val\n",
    "    pos = low\n",
    "    node = low.next\n",
    "    while node != high:\n",
    "        if node.val < pivot:\n",
    "            pos = pos.next\n",
    "            node.val, pos.val = pos.val, node.val\n",
    "        node = node.next\n",
    "    pos.val, low.val = low.val, pos.val\n",
    "    return pos"
   ]
  },
  {
   "cell_type": "code",
   "execution_count": 15,
   "metadata": {},
   "outputs": [
    {
     "name": "stdout",
     "output_type": "stream",
     "text": [
      "1\n",
      "2\n",
      "3\n",
      "4\n",
      "5\n",
      "6\n",
      "9\n"
     ]
    }
   ],
   "source": [
    "n1,n2,n3,n4,n5,n6,n7 = ListNode(1), ListNode(4), ListNode(6), ListNode(5), ListNode(9), ListNode(3), ListNode(2) \n",
    "n1.next = n2\n",
    "n2.next = n3\n",
    "n3.next = n4\n",
    "n4.next = n5\n",
    "n5.next = n6\n",
    "n6.next = n7\n",
    "h = quickSortLinkedList(n1)\n",
    "while h:\n",
    "    print(h.val)\n",
    "    h = h.next"
   ]
  },
  {
   "cell_type": "code",
   "execution_count": null,
   "metadata": {},
   "outputs": [],
   "source": []
  }
 ],
 "metadata": {
  "kernelspec": {
   "display_name": "Python 3",
   "language": "python",
   "name": "python3"
  },
  "language_info": {
   "codemirror_mode": {
    "name": "ipython",
    "version": 3
   },
   "file_extension": ".py",
   "mimetype": "text/x-python",
   "name": "python",
   "nbconvert_exporter": "python",
   "pygments_lexer": "ipython3",
   "version": "3.6.5"
  }
 },
 "nbformat": 4,
 "nbformat_minor": 2
}
