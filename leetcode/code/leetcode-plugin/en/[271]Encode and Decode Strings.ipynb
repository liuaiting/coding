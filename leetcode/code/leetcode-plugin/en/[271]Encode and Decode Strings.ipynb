{
 "cells": [
  {
   "cell_type": "markdown",
   "metadata": {},
   "source": [
    "# leetcode 271: Encode and Decode Strings\n",
    "\n",
    "Design an algorithm to encode a list of strings to a string. The encoded string is then sent over the network and is decoded back to the original list of strings.\n",
    "\n",
    "Machine 1 (sender) has the function:\n",
    "string encode(vector<string> strs) { // ... your code return encoded_string; } \n",
    "Machine 2 (receiver) has the function: \n",
    "vector<string> decode(string s) { //... your code return strs; }\n",
    "\n",
    "So Machine 1 does:\n",
    "string encoded_string = encode(strs); \n",
    "and Machine 2 does:\n",
    "vector<string> strs2 = decode(encoded_string); \n",
    "strs2 in Machine 2 should be the same as strs in Machine 1.\n",
    "\n",
    "Implement the encode and decode methods.\n",
    "\n",
    "Note: The string may contain any possible characters out of 256 valid ascii characters. Your algorithm should be generalized enough to work on any possible characters. Do not use class member/global/static variables to store states. Your encode and decode algorithms should be stateless. Do not rely on any library method such as eval or serialize methods. You should implement your own encode/decode algorithm."
   ]
  },
  {
   "cell_type": "markdown",
   "metadata": {},
   "source": [
    "## 思路：在总字符串中保留每个子字符串的长度信息并用一个特殊符号分隔开"
   ]
  },
  {
   "cell_type": "code",
   "execution_count": 3,
   "metadata": {
    "collapsed": true
   },
   "outputs": [],
   "source": [
    "from __future__ import print_function"
   ]
  },
  {
   "cell_type": "code",
   "execution_count": 3,
   "metadata": {},
   "outputs": [],
   "source": [
    "class Solution():\n",
    "    def encode(self, strs):\n",
    "        string = ''\n",
    "        for s in strs:\n",
    "            string += str(len(s)) + '#' + s\n",
    "        return string\n",
    "    def decode(self,string):\n",
    "        # 首先找到’#‘的位置\n",
    "        res = []\n",
    "        i = 0\n",
    "        while i < len(string):\n",
    "            index = string.find('#', i)\n",
    "            length = int(string[i:index])\n",
    "            # print(length)\n",
    "            substring = string[index + 1:index + 1 + length]\n",
    "            # print(substring)\n",
    "            i = index + length + 1\n",
    "            res.append(substring)\n",
    "        return res"
   ]
  },
  {
   "cell_type": "code",
   "execution_count": 4,
   "metadata": {},
   "outputs": [
    {
     "name": "stdout",
     "output_type": "stream",
     "text": [
      "1#a2#ab3#abc\n",
      "['a', 'ab', 'abc']\n"
     ]
    }
   ],
   "source": [
    "strs = ['a', 'ab', 'abc']\n",
    "s = Solution()\n",
    "string = s.encode(strs)\n",
    "print(string)\n",
    "res = s.decode(string)\n",
    "print(res)"
   ]
  }
 ],
 "metadata": {
  "kernelspec": {
   "display_name": "Python 3",
   "language": "python",
   "name": "python3"
  },
  "language_info": {
   "codemirror_mode": {
    "name": "ipython",
    "version": 3
   },
   "file_extension": ".py",
   "mimetype": "text/x-python",
   "name": "python",
   "nbconvert_exporter": "python",
   "pygments_lexer": "ipython3",
   "version": "3.6.5"
  }
 },
 "nbformat": 4,
 "nbformat_minor": 2
}
